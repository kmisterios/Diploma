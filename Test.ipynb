{
 "cells": [
  {
   "cell_type": "code",
   "execution_count": 84,
   "metadata": {},
   "outputs": [],
   "source": [
    "from jsonschema import validate"
   ]
  },
  {
   "cell_type": "code",
   "execution_count": 4,
   "metadata": {},
   "outputs": [],
   "source": [
    "schema = {\"type\" : \"object\",\n",
    "          \"properties\" : {\n",
    "              \"price\" : {\"type\" : \"number\"},\n",
    "              \"name\" : {\"type\" : \"string\"},\n",
    "          },\n",
    "         }"
   ]
  },
  {
   "cell_type": "code",
   "execution_count": 5,
   "metadata": {},
   "outputs": [
    {
     "name": "stdout",
     "output_type": "stream",
     "text": [
      "None\n"
     ]
    }
   ],
   "source": [
    "print(validate(instance={\"name\" : \"Eggs\", \"price\" : 8.77}, schema=schema))"
   ]
  },
  {
   "cell_type": "code",
   "execution_count": 6,
   "metadata": {},
   "outputs": [
    {
     "name": "stdout",
     "output_type": "stream",
     "text": [
      "error\n"
     ]
    }
   ],
   "source": [
    "v = None\n",
    "try:\n",
    "    validate(instance={\"name\" : \"Eggs\", \"price\" : \"invalid\"}, schema=schema)\n",
    "    print('ok')\n",
    "except:\n",
    "    print('error')"
   ]
  },
  {
   "cell_type": "code",
   "execution_count": 7,
   "metadata": {},
   "outputs": [],
   "source": [
    "import ruptures as rpt\n",
    "import json\n",
    "import numpy as np\n",
    "%matplotlib inline\n",
    "import matplotlib.pyplot as plt\n",
    "import seaborn"
   ]
  },
  {
   "cell_type": "code",
   "execution_count": 8,
   "metadata": {},
   "outputs": [],
   "source": [
    "data = '''[\n",
    "{\"name\" : \"Eggs\", \"price\" : 8.88},\n",
    "{\"name\" : \"Eggs\", \"price\" : 8.15},\n",
    "{\"name\" : \"Eggs\", \"price\" : 8.77},\n",
    "{\"name\" : \"Eggs\", \"price\" : 8.76},\n",
    "{\"name\" : \"Eggs\", \"price\" : 8.72},\n",
    "{\"name\" : \"Eggs\", \"price\" : 8.64},\n",
    "{\"name\" : \"Eggs\", \"price\" : 8.88},\n",
    "{\"name\" : \"Eggs\", \"price\" : 8.15},\n",
    "{\"name\" : \"Eggs\", \"price\" : 8.77},\n",
    "{\"name\" : \"Eggs\", \"price\" : 8.72},\n",
    "{\"name\" : \"Eggs\", \"price\" : 8.64},\n",
    "{\"name\" : \"Eggs\", \"price\" : 8.88},\n",
    "{\"name\" : \"Eggs\", \"price\" : 8.76},\n",
    "{\"name\" : \"Eggs\", \"price\" : 8.72},\n",
    "{\"name\" : \"Eggs\", \"price\" : 8.72},\n",
    "{\"name\" : \"Eggs\", \"price\" : 8.15},\n",
    "{\"name\" : \"Eggs\", \"price\" : 8.72},\n",
    "{\"name\" : \"Eggs\", \"price\" : 8.72},\n",
    "{\"name\" : \"Eggs\", \"price\" : 8.15}\n",
    "]'''"
   ]
  },
  {
   "cell_type": "code",
   "execution_count": 9,
   "metadata": {},
   "outputs": [],
   "source": [
    "samples = json.loads(data)"
   ]
  },
  {
   "cell_type": "code",
   "execution_count": 10,
   "metadata": {},
   "outputs": [],
   "source": [
    "schema = {\"type\" : \"object\", \"properties\" : {\"price\" : {\"type\" : \"number\"}, \"name\" : {\"type\" : \"string\"}}}"
   ]
  },
  {
   "cell_type": "code",
   "execution_count": 11,
   "metadata": {},
   "outputs": [],
   "source": [
    "for key in schema[\"properties\"].keys():\n",
    "    if schema[\"properties\"][key][\"type\"] == \"string\":\n",
    "        break"
   ]
  },
  {
   "cell_type": "code",
   "execution_count": 12,
   "metadata": {},
   "outputs": [
    {
     "data": {
      "text/plain": [
       "'name'"
      ]
     },
     "execution_count": 12,
     "metadata": {},
     "output_type": "execute_result"
    }
   ],
   "source": [
    "key"
   ]
  },
  {
   "cell_type": "code",
   "execution_count": 13,
   "metadata": {
    "scrolled": true
   },
   "outputs": [
    {
     "name": "stdout",
     "output_type": "stream",
     "text": [
      "Eggs\n",
      "Eggs\n",
      "Eggs\n",
      "Eggs\n",
      "Eggs\n",
      "Eggs\n",
      "Eggs\n",
      "Eggs\n",
      "Eggs\n",
      "Eggs\n",
      "Eggs\n",
      "Eggs\n",
      "Eggs\n",
      "Eggs\n",
      "Eggs\n",
      "Eggs\n",
      "Eggs\n",
      "Eggs\n",
      "Eggs\n"
     ]
    }
   ],
   "source": [
    "prices = []\n",
    "for sample in samples:\n",
    "    prices.append(len(sample[\"name\"]))\n",
    "    print(sample[\"name\"])"
   ]
  },
  {
   "cell_type": "code",
   "execution_count": 14,
   "metadata": {},
   "outputs": [],
   "source": [
    "prices = []\n",
    "for sample in samples:\n",
    "    prices.append(sample[\"price\"])"
   ]
  },
  {
   "cell_type": "code",
   "execution_count": 15,
   "metadata": {},
   "outputs": [
    {
     "name": "stdout",
     "output_type": "stream",
     "text": [
      "(array([ 0,  6, 11]),)\n",
      "(array([ 1,  7, 15, 18]),)\n"
     ]
    },
    {
     "data": {
      "text/plain": [
       "19"
      ]
     },
     "execution_count": 15,
     "metadata": {},
     "output_type": "execute_result"
    }
   ],
   "source": [
    "prices = np.array(prices)\n",
    "print(np.where(prices == max(prices)))\n",
    "print(np.where(prices == min(prices)))\n",
    "len(prices)"
   ]
  },
  {
   "cell_type": "code",
   "execution_count": 16,
   "metadata": {
    "scrolled": true
   },
   "outputs": [
    {
     "data": {
      "image/png": "[encoded data removed]",
      "text/plain": [
       "<Figure size 720x432 with 1 Axes>"
      ]
     },
     "metadata": {
      "needs_background": "light"
     },
     "output_type": "display_data"
    }
   ],
   "source": [
    "model = \"l2\"  \n",
    "algo = rpt.Binseg(model=model).fit(prices)\n",
    "my_bkps = algo.predict(n_bkps=10)\n",
    "# show results\n",
    "rpt.show.display(prices, my_bkps, figsize=(10, 6))\n",
    "plt.title('Change Point Detection: Pelt Search Method')\n",
    "plt.show()"
   ]
  },
  {
   "cell_type": "code",
   "execution_count": 17,
   "metadata": {},
   "outputs": [
    {
     "name": "stdout",
     "output_type": "stream",
     "text": [
      "[5, 10, 15, 19]\n"
     ]
    }
   ],
   "source": [
    "print(my_bkps)"
   ]
  },
  {
   "cell_type": "code",
   "execution_count": 18,
   "metadata": {},
   "outputs": [
    {
     "data": {
      "text/plain": [
       "1"
      ]
     },
     "execution_count": 18,
     "metadata": {},
     "output_type": "execute_result"
    }
   ],
   "source": [
    "(len(my_bkps)- int(my_bkps[-1]/5))"
   ]
  },
  {
   "cell_type": "code",
   "execution_count": 19,
   "metadata": {},
   "outputs": [],
   "source": [
    "a = np.array([[1,2,3],[1,3,2]])\n",
    "b = [[1,2,],[1],[2]]"
   ]
  },
  {
   "cell_type": "code",
   "execution_count": 20,
   "metadata": {},
   "outputs": [
    {
     "data": {
      "text/plain": [
       "True"
      ]
     },
     "execution_count": 20,
     "metadata": {},
     "output_type": "execute_result"
    }
   ],
   "source": [
    "type(a[0][0]) == np.int64"
   ]
  },
  {
   "cell_type": "code",
   "execution_count": 21,
   "metadata": {},
   "outputs": [
    {
     "data": {
      "text/plain": [
       "0"
      ]
     },
     "execution_count": 21,
     "metadata": {},
     "output_type": "execute_result"
    }
   ],
   "source": [
    "int(my_bkps[-1] % 5 in {1,2})"
   ]
  },
  {
   "cell_type": "code",
   "execution_count": 22,
   "metadata": {},
   "outputs": [],
   "source": [
    "import json\n",
    "import random\n",
    "\n",
    "items = ['eggs', 'milk', 'cheese', 'bread', 'porridge']\n",
    "names = ['Misha', 'Lena', 'Ivan', 'Nikita', 'Aleksandr', 'Fillip', 'fhfhfkksfklfjllflfalnfl']\n",
    "\n",
    "# есть поле текст n шагов, а после n+1 - нет\n",
    "def error1(n):\n",
    "    data_arr = []\n",
    "    n = int(n)\n",
    "    for i in range(n):\n",
    "        data = {}\n",
    "        data['name'] = random.choice(items)\n",
    "        data['price'] = random.randrange(8, 9) + round(random.random(), 3)\n",
    "        data['count'] = random.randint(1,10)\n",
    "        data['customer name'] = random.choice(names)\n",
    "        data['phone number'] = \"+79\" + str(random.randint(111111111,999999999))\n",
    "        data_arr.append(data)\n",
    "    for i in range(int(n / 5)):\n",
    "        data = {}\n",
    "        data['name'] = ''\n",
    "        data['price'] = random.randrange(8, 9) + round(random.random(), 3)\n",
    "        data['count'] = random.randint(1,10)\n",
    "        data['customer name'] = random.choice(names)\n",
    "        data['phone number'] = \"+79\" + str(random.randint(111111111,999999999))\n",
    "        data_arr.append(data)\n",
    "    with open('anomaly1.json', 'w') as json_file:\n",
    "        json.dump(data_arr, json_file)"
   ]
  },
  {
   "cell_type": "code",
   "execution_count": 23,
   "metadata": {},
   "outputs": [],
   "source": [
    "error1(100)"
   ]
  },
  {
   "cell_type": "code",
   "execution_count": 24,
   "metadata": {},
   "outputs": [],
   "source": [
    "def error2(n):\n",
    "    data_arr = []\n",
    "    n = int(n)\n",
    "    for i in range(n):\n",
    "        data = {}\n",
    "        data['name'] = random.choice(items)\n",
    "        data['price'] = random.randrange(8, 9) + round(random.random(), 3)\n",
    "        data['count'] = random.randint(1,10)\n",
    "        if random.random() < 0.589:\n",
    "            data[\"customer name\"] = random.choice(names)\n",
    "        else:\n",
    "            data[\"customer name\"] = ''\n",
    "        data['phone number'] = \"+79\" + str(random.randint(111111111,999999999))\n",
    "        data_arr.append(data)\n",
    "    for i in range(int(n / 5)):\n",
    "        data = {}\n",
    "        data[\"customer name\"] = ''\n",
    "        data['name'] = random.choice(items)\n",
    "        data['price'] = random.randrange(8, 9) + round(random.random(), 3)\n",
    "        data['count'] = random.randint(1,10)\n",
    "        data['phone number'] = \"+79\" + str(random.randint(111111111,999999999))\n",
    "        data_arr.append(data)\n",
    "    with open('anomaly2.json', 'w') as json_file:\n",
    "        json.dump(data_arr, json_file)"
   ]
  },
  {
   "cell_type": "code",
   "execution_count": 25,
   "metadata": {},
   "outputs": [],
   "source": [
    "error2(100)"
   ]
  },
  {
   "cell_type": "code",
   "execution_count": 26,
   "metadata": {},
   "outputs": [],
   "source": [
    "def error3(n):\n",
    "    data_arr = []\n",
    "    n = int(n)\n",
    "    for i in range(n):\n",
    "        data = {}\n",
    "        data['name'] = random.choice(items)\n",
    "        data['price'] = random.randrange(8, 9) + round(random.random(), 3)\n",
    "        data['count'] = random.randint(1,10)\n",
    "        data['customer name'] = random.choice(names)\n",
    "        data['phone number'] = \"+79\" + str(random.randint(111111111,999999999))\n",
    "        data_arr.append(data)\n",
    "    for i in range(int(n)):\n",
    "        data = {}\n",
    "        data['name'] = random.choice(items)\n",
    "        data['price'] = random.randrange(50, 70) + round(random.random(), 3)\n",
    "        data['count'] = random.randint(1,10)\n",
    "        data['customer name'] = random.choice(names)\n",
    "        data['phone number'] = \"+79\" + str(random.randint(111111111,999999999))\n",
    "        data_arr.append(data)\n",
    "    with open('anomaly3.json', 'w') as json_file:\n",
    "        json.dump(data_arr, json_file)"
   ]
  },
  {
   "cell_type": "code",
   "execution_count": 27,
   "metadata": {},
   "outputs": [],
   "source": [
    "error3(100)"
   ]
  },
  {
   "cell_type": "code",
   "execution_count": 28,
   "metadata": {},
   "outputs": [],
   "source": [
    "def error4(n):\n",
    "    data_arr = []\n",
    "    n = int(n)\n",
    "    for i in range(n):\n",
    "        data = {}\n",
    "        data['name'] = random.choice(items)\n",
    "        data['price'] = random.randrange(8, 9) + round(random.random(), 3)\n",
    "        data['count'] = random.randint(10,10)\n",
    "        data['customer name'] = random.choice(names)\n",
    "        data['phone number'] = \"+79\" + str(random.randint(111111111,999999999))\n",
    "        data_arr.append(data)\n",
    "    for i in range(int(n/ 5)):\n",
    "        data = {}\n",
    "        data['name'] = random.choice(items)\n",
    "        data['price'] = random.randrange(8, 9) + round(random.random(), 3)\n",
    "        data['count'] = random.randint(10,10)\n",
    "        data['customer name'] = random.choice(names)\n",
    "        data['phone number'] = \"8(9\" + str(random.randint(11,99))+')' + str(random.randint(1111111,9999999))\n",
    "        data_arr.append(data)\n",
    "    with open('anomaly4.json', 'w') as json_file:\n",
    "        json.dump(data_arr, json_file)"
   ]
  },
  {
   "cell_type": "code",
   "execution_count": 29,
   "metadata": {},
   "outputs": [],
   "source": [
    "error4(100)"
   ]
  },
  {
   "cell_type": "code",
   "execution_count": 67,
   "metadata": {},
   "outputs": [],
   "source": [
    "with open('anomaly4.json', 'r') as json_file:\n",
    "    data = json.loads(json_file.read())"
   ]
  },
  {
   "cell_type": "code",
   "execution_count": 68,
   "metadata": {},
   "outputs": [],
   "source": [
    "with open('collections.json', 'r') as json_file:\n",
    "    data2 = json.loads(json_file.read())"
   ]
  },
  {
   "cell_type": "code",
   "execution_count": 82,
   "metadata": {},
   "outputs": [],
   "source": [
    "schema = {\"id\" : {\"type\" : \"number\"}, \"type\" : \"object\", \"properties\" : {\"price\" : {\"type\" : \"number\"}, \"count\" : {\"type\" : \"number\"}, \"name\" : {\"type\" : \"string\"}, \"customer name\" : {\"type\" : \"string\"}, \"phone number\": {\"type\" : \"string\"}}, \"required\": [ \"name\" ]}"
   ]
  },
  {
   "cell_type": "code",
   "execution_count": 70,
   "metadata": {},
   "outputs": [],
   "source": [
    "for key in schema[\"properties\"].keys():\n",
    "    if schema[\"properties\"][key][\"type\"] == \"string\":\n",
    "        break"
   ]
  },
  {
   "cell_type": "code",
   "execution_count": 71,
   "metadata": {},
   "outputs": [
    {
     "data": {
      "text/plain": [
       "'name'"
      ]
     },
     "execution_count": 71,
     "metadata": {},
     "output_type": "execute_result"
    }
   ],
   "source": [
    "key"
   ]
  },
  {
   "cell_type": "code",
   "execution_count": 77,
   "metadata": {},
   "outputs": [],
   "source": [
    "prices = []\n",
    "for sample in data2 + data:\n",
    "    prices.append(len(sample[\"phone number\"]))"
   ]
  },
  {
   "cell_type": "code",
   "execution_count": 78,
   "metadata": {},
   "outputs": [
    {
     "data": {
      "text/plain": [
       "array([12, 12, 12, 12, 12, 12, 12, 12, 12, 12, 12, 12, 12, 12, 12, 12, 12,\n",
       "       12, 12, 12, 12, 12, 12, 12, 12, 12, 12, 12, 12, 12, 12, 12, 12, 12,\n",
       "       12, 12, 12, 12, 12, 12, 12, 12, 12, 12, 13, 13, 13, 13, 13, 13, 13,\n",
       "       13, 13, 13, 13, 13])"
      ]
     },
     "execution_count": 78,
     "metadata": {},
     "output_type": "execute_result"
    }
   ],
   "source": [
    "prices = np.array(prices)\n",
    "n = len(prices)\n",
    "prices"
   ]
  },
  {
   "cell_type": "code",
   "execution_count": 80,
   "metadata": {},
   "outputs": [
    {
     "data": {
      "image/png": "[encoded data removed]",
      "text/plain": [
       "<Figure size 720x432 with 1 Axes>"
      ]
     },
     "metadata": {
      "needs_background": "light"
     },
     "output_type": "display_data"
    }
   ],
   "source": [
    "model=\"l1\"\n",
    "algo = rpt.Pelt(model=model, min_size=1, jump=1).fit(prices)\n",
    "result = algo.predict(pen=5)\n",
    "rpt.show.display(prices, result, figsize=(10, 6))\n",
    "plt.title('Change Point Detection: Pelt Search Method')\n",
    "plt.show()"
   ]
  },
  {
   "cell_type": "code",
   "execution_count": 37,
   "metadata": {},
   "outputs": [
    {
     "data": {
      "text/plain": [
       "[120]"
      ]
     },
     "execution_count": 37,
     "metadata": {},
     "output_type": "execute_result"
    }
   ],
   "source": [
    "result"
   ]
  },
  {
   "cell_type": "code",
   "execution_count": 38,
   "metadata": {},
   "outputs": [],
   "source": [
    "def error5(n):\n",
    "    data_arr = []\n",
    "    n = int(n)\n",
    "    for i in range(n):\n",
    "        data = {}\n",
    "        data['name'] = random.choice(items)\n",
    "        data['price'] = random.randrange(8, 9) + round(random.random(), 3)\n",
    "        data['count'] = random.randint(1,10)\n",
    "        data[\"customer name\"] = random.choice(names)\n",
    "        data['phone number'] = \"+79\" + str(random.randint(111111111,999999999))\n",
    "        data_arr.append(data)\n",
    "    for i in range(int(n / 10)):\n",
    "        data = {}\n",
    "        data['name'] = random.choice(items)\n",
    "        data['price'] = random.randrange(8, 9) + round(random.random(), 3)\n",
    "        data['phone number'] = \"+79\" + str(random.randint(111111111,999999999))\n",
    "        data_arr.append(data)\n",
    "    with open('anomaly5.json', 'w') as json_file:\n",
    "        json.dump(data_arr, json_file)"
   ]
  },
  {
   "cell_type": "code",
   "execution_count": 39,
   "metadata": {},
   "outputs": [],
   "source": [
    "error5(50)"
   ]
  },
  {
   "cell_type": "code",
   "execution_count": 40,
   "metadata": {},
   "outputs": [],
   "source": [
    "with open('anomaly5.json', 'r') as json_file:\n",
    "    data = json.loads(json_file.read())"
   ]
  },
  {
   "cell_type": "code",
   "execution_count": 41,
   "metadata": {},
   "outputs": [
    {
     "data": {
      "text/plain": [
       "5"
      ]
     },
     "execution_count": 41,
     "metadata": {},
     "output_type": "execute_result"
    }
   ],
   "source": [
    "len(data[0].keys())"
   ]
  },
  {
   "cell_type": "code",
   "execution_count": 42,
   "metadata": {
    "scrolled": false
   },
   "outputs": [
    {
     "data": {
      "image/png": "[encoded data removed]",
      "text/plain": [
       "<Figure size 720x432 with 1 Axes>"
      ]
     },
     "metadata": {
      "needs_background": "light"
     },
     "output_type": "display_data"
    }
   ],
   "source": [
    "numbers = []\n",
    "for sample in data:\n",
    "    numbers.append(len(sample.keys()))\n",
    "numbers = np.array(numbers)\n",
    "model = \"l1\"\n",
    "algo = rpt.Pelt(model=model, min_size=1, jump=1).fit(numbers)\n",
    "result = algo.predict(pen=5)\n",
    "rpt.show.display(numbers, result, figsize=(10, 6))\n",
    "plt.title('Change Point Detection: Pelt Search Method')\n",
    "plt.show()"
   ]
  },
  {
   "cell_type": "code",
   "execution_count": 43,
   "metadata": {},
   "outputs": [
    {
     "data": {
      "text/plain": [
       "5"
      ]
     },
     "execution_count": 43,
     "metadata": {},
     "output_type": "execute_result"
    }
   ],
   "source": [
    "numbers.max()"
   ]
  },
  {
   "cell_type": "code",
   "execution_count": 44,
   "metadata": {},
   "outputs": [
    {
     "data": {
      "text/plain": [
       "[50, 55]"
      ]
     },
     "execution_count": 44,
     "metadata": {},
     "output_type": "execute_result"
    }
   ],
   "source": [
    "result"
   ]
  },
  {
   "cell_type": "code",
   "execution_count": 45,
   "metadata": {},
   "outputs": [
    {
     "data": {
      "text/plain": [
       "<function json.dumps(obj, *, skipkeys=False, ensure_ascii=True, check_circular=True, allow_nan=True, cls=None, indent=None, separators=None, default=None, sort_keys=False, **kw)>"
      ]
     },
     "execution_count": 45,
     "metadata": {},
     "output_type": "execute_result"
    }
   ],
   "source": [
    "json.dumps"
   ]
  },
  {
   "cell_type": "code",
   "execution_count": 112,
   "metadata": {},
   "outputs": [],
   "source": [
    "schemas = [{\"id\" : 1, \"type\" : \"object\", \"properties\" : {\"price\" : {\"type\" : \"number\"}, \"count\" : {\"type\" : \"number\"}, \"name\" : {\"type\" : \"string\"}, \"customer name\" : {\"type\" : \"string\"}, \"phone number\": {\"type\" : \"string\"}}, \"required\": [ \"name\", \"id\" ]},\n",
    "          {\"id\" : 2, \"type\" : \"object\", \"properties\" : {\"price\" : {\"type\" : \"number\"}, \"count\" : {\"type\" : \"number\"}, \"name\" : {\"type\" : \"string\"}, \"customer name\" : {\"type\" : \"string\"}, \"phone number\": {\"type\" : \"string\"}}, \"required\": [ \"name\", \"id\" ]}]"
   ]
  },
  {
   "cell_type": "code",
   "execution_count": 109,
   "metadata": {},
   "outputs": [],
   "source": [
    "from jsonschema import validate\n",
    "validate(instance={\"id\": 3, \"name\": \"porridge\", \"price\": 8.2, \"count\": 1, \"customer name\": \"Nikita\", \n",
    "                   \"phone number\": \"+79451233408\"}, schema=schema)"
   ]
  },
  {
   "cell_type": "code",
   "execution_count": 110,
   "metadata": {},
   "outputs": [],
   "source": [
    "js = {\"id\": 1, \"name\": \"porridge\", \"price\": 8.2, \"count\": 1, \"customer name\": \"Nikita\", \n",
    "                   \"phone number\": \"+79451233408\"}"
   ]
  },
  {
   "cell_type": "code",
   "execution_count": 121,
   "metadata": {},
   "outputs": [],
   "source": [
    "schema = filter(lambda t: t[\"id\"] == 3, schemas)"
   ]
  },
  {
   "cell_type": "code",
   "execution_count": 123,
   "metadata": {
    "scrolled": true
   },
   "outputs": [
    {
     "data": {
      "text/plain": [
       "[]"
      ]
     },
     "execution_count": 123,
     "metadata": {},
     "output_type": "execute_result"
    }
   ],
   "source": [
    "schema = list(schema)\n",
    "schema"
   ]
  },
  {
   "cell_type": "code",
   "execution_count": 134,
   "metadata": {},
   "outputs": [],
   "source": [
    "js = '{\"id\" : 2, \"type\" : \"object\", \"properties\" : {\"price\" : {\"type\" : \"number\"}, \"count\" : {\"type\" : \"number\"}, \"name\" : {\"type\" : \"string\"}, \"customer name\" : {\"type\" : \"string\"}, \"phone number\": {\"type\" : \"string\"}}, \"required\": [ \"name\", \"id\" ]}'"
   ]
  },
  {
   "cell_type": "code",
   "execution_count": 150,
   "metadata": {},
   "outputs": [],
   "source": [
    "j ='{\"type\" : \"object\", \"properties\" : { \"legs\" : {\"type\" : \"number\"}}}'"
   ]
  },
  {
   "cell_type": "code",
   "execution_count": 151,
   "metadata": {},
   "outputs": [],
   "source": [
    "j = json.loads(j)"
   ]
  },
  {
   "cell_type": "code",
   "execution_count": 152,
   "metadata": {},
   "outputs": [
    {
     "ename": "ValueError",
     "evalue": "invalid literal for int() with base 10: 'hi'",
     "output_type": "error",
     "traceback": [
      "\u001b[0;31m---------------------------------------------------------------------------\u001b[0m",
      "\u001b[0;31mValueError\u001b[0m                                Traceback (most recent call last)",
      "\u001b[0;32m<ipython-input-152-ac4caeec72fd>\u001b[0m in \u001b[0;36m<module>\u001b[0;34m\u001b[0m\n\u001b[1;32m      1\u001b[0m \u001b[0ms\u001b[0m \u001b[0;34m=\u001b[0m \u001b[0;34m'hi'\u001b[0m\u001b[0;34m\u001b[0m\u001b[0;34m\u001b[0m\u001b[0m\n\u001b[0;32m----> 2\u001b[0;31m \u001b[0mint\u001b[0m\u001b[0;34m(\u001b[0m\u001b[0ms\u001b[0m\u001b[0;34m)\u001b[0m\u001b[0;34m\u001b[0m\u001b[0;34m\u001b[0m\u001b[0m\n\u001b[0m",
      "\u001b[0;31mValueError\u001b[0m: invalid literal for int() with base 10: 'hi'"
     ]
    }
   ],
   "source": [
    "s = 'hi'\n",
    "int(s)"
   ]
  },
  {
   "cell_type": "code",
   "execution_count": null,
   "metadata": {},
   "outputs": [],
   "source": []
  }
 ],
 "metadata": {
  "kernelspec": {
   "display_name": "Python 3",
   "language": "python",
   "name": "python3"
  },
  "language_info": {
   "codemirror_mode": {
    "name": "ipython",
    "version": 3
   },
   "file_extension": ".py",
   "mimetype": "text/x-python",
   "name": "python",
   "nbconvert_exporter": "python",
   "pygments_lexer": "ipython3",
   "version": "3.7.3"
  }
 },
 "nbformat": 4,
 "nbformat_minor": 2
}
