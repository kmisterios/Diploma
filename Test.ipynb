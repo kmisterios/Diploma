{
 "cells": [
  {
   "cell_type": "code",
   "execution_count": 1,
   "metadata": {},
   "outputs": [],
   "source": [
    "from jsonschema import validate"
   ]
  },
  {
   "cell_type": "code",
   "execution_count": 2,
   "metadata": {},
   "outputs": [],
   "source": [
    "schema = {\"type\" : \"object\",\n",
    "          \"properties\" : {\n",
    "              \"price\" : {\"type\" : \"number\"},\n",
    "              \"name\" : {\"type\" : \"string\"},\n",
    "          },\n",
    "         }"
   ]
  },
  {
   "cell_type": "code",
   "execution_count": 3,
   "metadata": {},
   "outputs": [
    {
     "name": "stdout",
     "output_type": "stream",
     "text": [
      "None\n"
     ]
    }
   ],
   "source": [
    "print(validate(instance={\"name\" : \"Eggs\", \"price\" : 8.77}, schema=schema))"
   ]
  },
  {
   "cell_type": "code",
   "execution_count": 4,
   "metadata": {},
   "outputs": [
    {
     "name": "stdout",
     "output_type": "stream",
     "text": [
      "error\n"
     ]
    }
   ],
   "source": [
    "v = None\n",
    "try:\n",
    "    validate(instance={\"name\" : \"Eggs\", \"price\" : \"invalid\"}, schema=schema)\n",
    "    print('ok')\n",
    "except:\n",
    "    print('error')"
   ]
  },
  {
   "cell_type": "code",
   "execution_count": 5,
   "metadata": {},
   "outputs": [],
   "source": [
    "import ruptures as rpt\n",
    "import json\n",
    "import numpy as np\n",
    "%matplotlib inline\n",
    "import matplotlib.pyplot as plt\n",
    "import seaborn"
   ]
  },
  {
   "cell_type": "code",
   "execution_count": 6,
   "metadata": {},
   "outputs": [],
   "source": [
    "data = '''[\n",
    "{\"name\" : \"Eggs\", \"price\" : 8.88},\n",
    "{\"name\" : \"Eggs\", \"price\" : 8.15},\n",
    "{\"name\" : \"Eggs\", \"price\" : 8.77},\n",
    "{\"name\" : \"Eggs\", \"price\" : 8.76},\n",
    "{\"name\" : \"Eggs\", \"price\" : 8.72},\n",
    "{\"name\" : \"Eggs\", \"price\" : 8.64},\n",
    "{\"name\" : \"Eggs\", \"price\" : 8.88},\n",
    "{\"name\" : \"Eggs\", \"price\" : 8.15},\n",
    "{\"name\" : \"Eggs\", \"price\" : 8.77},\n",
    "{\"name\" : \"Eggs\", \"price\" : 8.72},\n",
    "{\"name\" : \"Eggs\", \"price\" : 8.64},\n",
    "{\"name\" : \"Eggs\", \"price\" : 8.88},\n",
    "{\"name\" : \"Eggs\", \"price\" : 8.76},\n",
    "{\"name\" : \"Eggs\", \"price\" : 8.72},\n",
    "{\"name\" : \"Eggs\", \"price\" : 8.72},\n",
    "{\"name\" : \"Eggs\", \"price\" : 8.15},\n",
    "{\"name\" : \"Eggs\", \"price\" : 8.72},\n",
    "{\"name\" : \"Eggs\", \"price\" : 8.72},\n",
    "{\"name\" : \"Eggs\", \"price\" : 8.15}\n",
    "]'''"
   ]
  },
  {
   "cell_type": "code",
   "execution_count": 7,
   "metadata": {},
   "outputs": [],
   "source": [
    "samples = json.loads(data)"
   ]
  },
  {
   "cell_type": "code",
   "execution_count": 8,
   "metadata": {},
   "outputs": [],
   "source": [
    "schema = {\"type\" : \"object\", \"properties\" : {\"price\" : {\"type\" : \"number\"}, \"name\" : {\"type\" : \"string\"}}}"
   ]
  },
  {
   "cell_type": "code",
   "execution_count": 9,
   "metadata": {},
   "outputs": [],
   "source": [
    "for key in schema[\"properties\"].keys():\n",
    "    if schema[\"properties\"][key][\"type\"] == \"string\":\n",
    "        break"
   ]
  },
  {
   "cell_type": "code",
   "execution_count": 10,
   "metadata": {},
   "outputs": [
    {
     "data": {
      "text/plain": [
       "'name'"
      ]
     },
     "execution_count": 10,
     "metadata": {},
     "output_type": "execute_result"
    }
   ],
   "source": [
    "key"
   ]
  },
  {
   "cell_type": "code",
   "execution_count": 11,
   "metadata": {
    "scrolled": true
   },
   "outputs": [
    {
     "name": "stdout",
     "output_type": "stream",
     "text": [
      "Eggs\n",
      "Eggs\n",
      "Eggs\n",
      "Eggs\n",
      "Eggs\n",
      "Eggs\n",
      "Eggs\n",
      "Eggs\n",
      "Eggs\n",
      "Eggs\n",
      "Eggs\n",
      "Eggs\n",
      "Eggs\n",
      "Eggs\n",
      "Eggs\n",
      "Eggs\n",
      "Eggs\n",
      "Eggs\n",
      "Eggs\n"
     ]
    }
   ],
   "source": [
    "prices = []\n",
    "for sample in samples:\n",
    "    prices.append(len(sample[\"name\"]))\n",
    "    print(sample[\"name\"])"
   ]
  },
  {
   "cell_type": "code",
   "execution_count": 12,
   "metadata": {},
   "outputs": [],
   "source": [
    "prices = []\n",
    "for sample in samples:\n",
    "    prices.append(sample[\"price\"])"
   ]
  },
  {
   "cell_type": "code",
   "execution_count": 13,
   "metadata": {},
   "outputs": [
    {
     "name": "stdout",
     "output_type": "stream",
     "text": [
      "(array([ 0,  6, 11]),)\n",
      "(array([ 1,  7, 15, 18]),)\n"
     ]
    },
    {
     "data": {
      "text/plain": [
       "19"
      ]
     },
     "execution_count": 13,
     "metadata": {},
     "output_type": "execute_result"
    }
   ],
   "source": [
    "prices = np.array(prices)\n",
    "print(np.where(prices == max(prices)))\n",
    "print(np.where(prices == min(prices)))\n",
    "len(prices)"
   ]
  },
  {
   "cell_type": "code",
   "execution_count": 14,
   "metadata": {
    "scrolled": true
   },
   "outputs": [
    {
     "data": {
      "image/png": "[encoded data removed]",
      "text/plain": [
       "<Figure size 720x432 with 1 Axes>"
      ]
     },
     "metadata": {
      "needs_background": "light"
     },
     "output_type": "display_data"
    }
   ],
   "source": [
    "model = \"l2\"  \n",
    "algo = rpt.Binseg(model=model).fit(prices)\n",
    "my_bkps = algo.predict(n_bkps=10)\n",
    "# show results\n",
    "rpt.show.display(prices, my_bkps, figsize=(10, 6))\n",
    "plt.title('Change Point Detection: Pelt Search Method')\n",
    "plt.show()"
   ]
  },
  {
   "cell_type": "code",
   "execution_count": 15,
   "metadata": {},
   "outputs": [
    {
     "name": "stdout",
     "output_type": "stream",
     "text": [
      "[5, 10, 15, 19]\n"
     ]
    }
   ],
   "source": [
    "print(my_bkps)"
   ]
  },
  {
   "cell_type": "code",
   "execution_count": 16,
   "metadata": {},
   "outputs": [
    {
     "data": {
      "text/plain": [
       "1"
      ]
     },
     "execution_count": 16,
     "metadata": {},
     "output_type": "execute_result"
    }
   ],
   "source": [
    "(len(my_bkps)- int(my_bkps[-1]/5))"
   ]
  },
  {
   "cell_type": "code",
   "execution_count": 17,
   "metadata": {},
   "outputs": [],
   "source": [
    "a = np.array([[1,2,3],[1,3,2]])\n",
    "b = [[1,2,],[1],[2]]"
   ]
  },
  {
   "cell_type": "code",
   "execution_count": 18,
   "metadata": {},
   "outputs": [
    {
     "data": {
      "text/plain": [
       "True"
      ]
     },
     "execution_count": 18,
     "metadata": {},
     "output_type": "execute_result"
    }
   ],
   "source": [
    "type(a[0][0]) == np.int64"
   ]
  },
  {
   "cell_type": "code",
   "execution_count": 19,
   "metadata": {},
   "outputs": [
    {
     "data": {
      "text/plain": [
       "0"
      ]
     },
     "execution_count": 19,
     "metadata": {},
     "output_type": "execute_result"
    }
   ],
   "source": [
    "int(my_bkps[-1] % 5 in {1,2})"
   ]
  },
  {
   "cell_type": "code",
   "execution_count": 20,
   "metadata": {},
   "outputs": [],
   "source": [
    "import json\n",
    "import random\n",
    "\n",
    "items = ['eggs', 'milk', 'cheese', 'bread', 'porridge']\n",
    "names = ['Misha', 'Lena', 'Ivan', 'Nikita', 'Aleksandr', 'Fillip', 'fhfhfkksfklfjllflfalnfl']\n",
    "\n",
    "# есть поле текст n шагов, а после n+1 - нет\n",
    "def error1(n):\n",
    "    data_arr = []\n",
    "    n = int(n)\n",
    "    for i in range(n):\n",
    "        data = {}\n",
    "        data['name'] = random.choice(items)\n",
    "        data['price'] = random.randrange(8, 9) + round(random.random(), 3)\n",
    "        data['count'] = random.randint(1,10)\n",
    "        data['customer name'] = random.choice(names)\n",
    "        data['phone number'] = \"+79\" + str(random.randint(111111111,999999999))\n",
    "        data_arr.append(data)\n",
    "    for i in range(int(n / 5)):\n",
    "        data = {}\n",
    "        data['name'] = ''\n",
    "        data['price'] = random.randrange(8, 9) + round(random.random(), 3)\n",
    "        data['count'] = random.randint(1,10)\n",
    "        data['customer name'] = random.choice(names)\n",
    "        data['phone number'] = \"+79\" + str(random.randint(111111111,999999999))\n",
    "        data_arr.append(data)\n",
    "    with open('anomaly1.json', 'w') as json_file:\n",
    "        json.dump(data_arr, json_file)"
   ]
  },
  {
   "cell_type": "code",
   "execution_count": 21,
   "metadata": {},
   "outputs": [],
   "source": [
    "error1(100)"
   ]
  },
  {
   "cell_type": "code",
   "execution_count": 22,
   "metadata": {},
   "outputs": [],
   "source": [
    "def error2(n):\n",
    "    data_arr = []\n",
    "    n = int(n)\n",
    "    for i in range(n):\n",
    "        data = {}\n",
    "        data['name'] = random.choice(items)\n",
    "        data['price'] = random.randrange(8, 9) + round(random.random(), 3)\n",
    "        data['count'] = random.randint(1,10)\n",
    "        if random.random() < 0.589:\n",
    "            data[\"customer name\"] = random.choice(names)\n",
    "        else:\n",
    "            data[\"customer name\"] = ''\n",
    "        data['phone number'] = \"+79\" + str(random.randint(111111111,999999999))\n",
    "        data_arr.append(data)\n",
    "    for i in range(int(n / 5)):\n",
    "        data = {}\n",
    "        data[\"customer name\"] = ''\n",
    "        data['name'] = random.choice(items)\n",
    "        data['price'] = random.randrange(8, 9) + round(random.random(), 3)\n",
    "        data['count'] = random.randint(1,10)\n",
    "        data['phone number'] = \"+79\" + str(random.randint(111111111,999999999))\n",
    "        data_arr.append(data)\n",
    "    with open('anomaly2.json', 'w') as json_file:\n",
    "        json.dump(data_arr, json_file)"
   ]
  },
  {
   "cell_type": "code",
   "execution_count": 23,
   "metadata": {},
   "outputs": [],
   "source": [
    "error2(100)"
   ]
  },
  {
   "cell_type": "code",
   "execution_count": 39,
   "metadata": {},
   "outputs": [],
   "source": [
    "def error3(n):\n",
    "    data_arr = []\n",
    "    n = int(n)\n",
    "    for i in range(n):\n",
    "        data = {}\n",
    "        data['name'] = random.choice(items)\n",
    "        data['price'] = random.randrange(8, 9) + round(random.random(), 3)\n",
    "        data['count'] = random.randint(1,10)\n",
    "        data['customer name'] = random.choice(names)\n",
    "        data['phone number'] = \"+79\" + str(random.randint(111111111,999999999))\n",
    "        data_arr.append(data)\n",
    "    for i in range(int(n)):\n",
    "        data = {}\n",
    "        data['name'] = random.choice(items)\n",
    "        data['price'] = random.randrange(50, 70) + round(random.random(), 3)\n",
    "        data['count'] = random.randint(1,10)\n",
    "        data['customer name'] = random.choice(names)\n",
    "        data['phone number'] = \"+79\" + str(random.randint(111111111,999999999))\n",
    "        data_arr.append(data)\n",
    "    with open('anomaly3.json', 'w') as json_file:\n",
    "        json.dump(data_arr, json_file)"
   ]
  },
  {
   "cell_type": "code",
   "execution_count": 40,
   "metadata": {},
   "outputs": [],
   "source": [
    "error3(100)"
   ]
  },
  {
   "cell_type": "code",
   "execution_count": 169,
   "metadata": {},
   "outputs": [],
   "source": [
    "def error4(n):\n",
    "    data_arr = []\n",
    "    n = int(n)\n",
    "    for i in range(n):\n",
    "        data = {}\n",
    "        data['name'] = random.choice(items)\n",
    "        data['price'] = random.randrange(8, 9) + round(random.random(), 3)\n",
    "        data['count'] = random.randint(10,10)\n",
    "        data['customer name'] = random.choice(names)\n",
    "        data['phone number'] = \"+79\" + str(random.randint(111111111,999999999))\n",
    "        data_arr.append(data)\n",
    "    for i in range(int(n/ 5)):\n",
    "        data = {}\n",
    "        data['name'] = random.choice(items)\n",
    "        data['price'] = random.randrange(8, 9) + round(random.random(), 3)\n",
    "        data['count'] = random.randint(10,10)\n",
    "        data['customer name'] = random.choice(names)\n",
    "        data['phone number'] = \"8(9\" + str(random.randint(11,99))+')' + str(random.randint(1111111,9999999))\n",
    "        data_arr.append(data)\n",
    "    with open('anomaly4.json', 'w') as json_file:\n",
    "        json.dump(data_arr, json_file)"
   ]
  },
  {
   "cell_type": "code",
   "execution_count": 170,
   "metadata": {},
   "outputs": [],
   "source": [
    "error4(100)"
   ]
  },
  {
   "cell_type": "code",
   "execution_count": 180,
   "metadata": {},
   "outputs": [],
   "source": [
    "with open('anomaly1.json', 'r') as json_file:\n",
    "    data = json.loads(json_file.read())"
   ]
  },
  {
   "cell_type": "code",
   "execution_count": 181,
   "metadata": {},
   "outputs": [],
   "source": [
    "schema = {\"type\" : \"object\", \"properties\" : {\"price\" : {\"type\" : \"number\"}, \"count\" : {\"type\" : \"number\"}, \"name\" : {\"type\" : \"string\"}, \"customer name\" : {\"type\" : \"string\"}, \"phone number\": {\"type\" : \"string\"}}, \"required\": [ \"name\" ]}"
   ]
  },
  {
   "cell_type": "code",
   "execution_count": 182,
   "metadata": {},
   "outputs": [],
   "source": [
    "for key in schema[\"properties\"].keys():\n",
    "    if schema[\"properties\"][key][\"type\"] == \"string\":\n",
    "        break"
   ]
  },
  {
   "cell_type": "code",
   "execution_count": 174,
   "metadata": {},
   "outputs": [
    {
     "data": {
      "text/plain": [
       "'name'"
      ]
     },
     "execution_count": 174,
     "metadata": {},
     "output_type": "execute_result"
    }
   ],
   "source": [
    "key"
   ]
  },
  {
   "cell_type": "code",
   "execution_count": 188,
   "metadata": {},
   "outputs": [],
   "source": [
    "prices = []\n",
    "for sample in data:\n",
    "    prices.append(len(sample[\"name\"]))"
   ]
  },
  {
   "cell_type": "code",
   "execution_count": 193,
   "metadata": {},
   "outputs": [
    {
     "data": {
      "text/plain": [
       "array([4, 5, 8, 5, 6, 8, 8, 5, 5, 4, 5, 4, 5, 4, 6, 4, 4, 5, 8, 6, 5, 4,\n",
       "       8, 4, 4, 5, 5, 5, 8, 6, 5, 6, 6, 5, 4, 4, 5, 4, 5, 4, 6, 4, 4, 4,\n",
       "       4, 4, 8, 6, 4, 8, 4, 4, 4, 6, 4, 4, 8, 4, 4, 6, 5, 8, 6, 4, 5, 5,\n",
       "       6, 6, 4, 6, 4, 5, 5, 5, 4, 4, 6, 6, 5, 4, 8, 8, 5, 6, 4, 4, 8, 5,\n",
       "       4, 6, 4, 8, 5, 4, 5, 6, 5, 8, 4, 5, 0, 0, 0, 0, 0, 0, 0, 0, 0, 0])"
      ]
     },
     "execution_count": 193,
     "metadata": {},
     "output_type": "execute_result"
    }
   ],
   "source": [
    "prices = np.array(prices)\n",
    "n = len(prices)\n",
    "prices"
   ]
  },
  {
   "cell_type": "code",
   "execution_count": 190,
   "metadata": {},
   "outputs": [
    {
     "data": {
      "image/png": "[encoded data removed]",
      "text/plain": [
       "<Figure size 720x432 with 1 Axes>"
      ]
     },
     "metadata": {
      "needs_background": "light"
     },
     "output_type": "display_data"
    }
   ],
   "source": [
    "model=\"rbf\"\n",
    "algo = rpt.Pelt(model=model, min_size=1, jump=1).fit(prices)\n",
    "result = algo.predict(pen=5)\n",
    "rpt.show.display(prices, result, figsize=(10, 6))\n",
    "plt.title('Change Point Detection: Pelt Search Method')\n",
    "plt.show()"
   ]
  },
  {
   "cell_type": "code",
   "execution_count": 191,
   "metadata": {},
   "outputs": [
    {
     "data": {
      "text/plain": [
       "[100, 110]"
      ]
     },
     "execution_count": 191,
     "metadata": {},
     "output_type": "execute_result"
    }
   ],
   "source": [
    "result"
   ]
  },
  {
   "cell_type": "code",
   "execution_count": 155,
   "metadata": {},
   "outputs": [],
   "source": [
    "def error5(n):\n",
    "    data_arr = []\n",
    "    n = int(n)\n",
    "    for i in range(n):\n",
    "        data = {}\n",
    "        data['name'] = random.choice(items)\n",
    "        data['price'] = random.randrange(8, 9) + round(random.random(), 3)\n",
    "        data['count'] = random.randint(1,10)\n",
    "        data[\"customer name\"] = random.choice(names)\n",
    "        data['phone number'] = \"+79\" + str(random.randint(111111111,999999999))\n",
    "        data_arr.append(data)\n",
    "    for i in range(int(n / 10)):\n",
    "        data = {}\n",
    "        data['name'] = random.choice(items)\n",
    "        data['price'] = random.randrange(8, 9) + round(random.random(), 3)\n",
    "        data['phone number'] = \"+79\" + str(random.randint(111111111,999999999))\n",
    "        data_arr.append(data)\n",
    "    with open('anomaly5.json', 'w') as json_file:\n",
    "        json.dump(data_arr, json_file)"
   ]
  },
  {
   "cell_type": "code",
   "execution_count": 156,
   "metadata": {},
   "outputs": [],
   "source": [
    "error5(50)"
   ]
  },
  {
   "cell_type": "code",
   "execution_count": 157,
   "metadata": {},
   "outputs": [],
   "source": [
    "with open('anomaly5.json', 'r') as json_file:\n",
    "    data = json.loads(json_file.read())"
   ]
  },
  {
   "cell_type": "code",
   "execution_count": 158,
   "metadata": {},
   "outputs": [
    {
     "data": {
      "text/plain": [
       "5"
      ]
     },
     "execution_count": 158,
     "metadata": {},
     "output_type": "execute_result"
    }
   ],
   "source": [
    "len(data[0].keys())"
   ]
  },
  {
   "cell_type": "code",
   "execution_count": 159,
   "metadata": {
    "scrolled": false
   },
   "outputs": [
    {
     "data": {
      "image/png": "[encoded data removed]",
      "text/plain": [
       "<Figure size 720x432 with 1 Axes>"
      ]
     },
     "metadata": {
      "needs_background": "light"
     },
     "output_type": "display_data"
    }
   ],
   "source": [
    "numbers = []\n",
    "for sample in data:\n",
    "    numbers.append(len(sample.keys()))\n",
    "numbers = np.array(numbers)\n",
    "model = \"l1\"\n",
    "algo = rpt.Pelt(model=model, min_size=1, jump=1).fit(numbers)\n",
    "result = algo.predict(pen=5)\n",
    "rpt.show.display(numbers, result, figsize=(10, 6))\n",
    "plt.title('Change Point Detection: Pelt Search Method')\n",
    "plt.show()"
   ]
  },
  {
   "cell_type": "code",
   "execution_count": 179,
   "metadata": {},
   "outputs": [
    {
     "data": {
      "text/plain": [
       "5"
      ]
     },
     "execution_count": 179,
     "metadata": {},
     "output_type": "execute_result"
    }
   ],
   "source": [
    "numbers.max()"
   ]
  },
  {
   "cell_type": "code",
   "execution_count": 160,
   "metadata": {},
   "outputs": [
    {
     "data": {
      "text/plain": [
       "[50, 55]"
      ]
     },
     "execution_count": 160,
     "metadata": {},
     "output_type": "execute_result"
    }
   ],
   "source": [
    "result"
   ]
  },
  {
   "cell_type": "code",
   "execution_count": null,
   "metadata": {},
   "outputs": [],
   "source": []
  }
 ],
 "metadata": {
  "kernelspec": {
   "display_name": "Python 3",
   "language": "python",
   "name": "python3"
  },
  "language_info": {
   "codemirror_mode": {
    "name": "ipython",
    "version": 3
   },
   "file_extension": ".py",
   "mimetype": "text/x-python",
   "name": "python",
   "nbconvert_exporter": "python",
   "pygments_lexer": "ipython3",
   "version": "3.7.3"
  }
 },
 "nbformat": 4,
 "nbformat_minor": 2
}
