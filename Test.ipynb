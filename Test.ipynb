{
 "cells": [
  {
   "cell_type": "code",
   "execution_count": 5,
   "metadata": {},
   "outputs": [],
   "source": [
    "from jsonschema import validate"
   ]
  },
  {
   "cell_type": "code",
   "execution_count": 6,
   "metadata": {},
   "outputs": [],
   "source": [
    "schema = {\"type\" : \"object\",\n",
    "          \"properties\" : {\n",
    "              \"price\" : {\"type\" : \"number\"},\n",
    "              \"name\" : {\"type\" : \"string\"},\n",
    "          },\n",
    "         }"
   ]
  },
  {
   "cell_type": "code",
   "execution_count": 7,
   "metadata": {},
   "outputs": [
    {
     "name": "stdout",
     "output_type": "stream",
     "text": [
      "None\n"
     ]
    }
   ],
   "source": [
    "print(validate(instance={\"name\" : \"Eggs\", \"price\" : 8.77}, schema=schema))"
   ]
  },
  {
   "cell_type": "code",
   "execution_count": 8,
   "metadata": {},
   "outputs": [
    {
     "name": "stdout",
     "output_type": "stream",
     "text": [
      "error\n"
     ]
    }
   ],
   "source": [
    "v = None\n",
    "try:\n",
    "    validate(instance={\"name\" : \"Eggs\", \"price\" : \"invalid\"}, schema=schema)\n",
    "    print('ok')\n",
    "except:\n",
    "    print('error')"
   ]
  },
  {
   "cell_type": "code",
   "execution_count": 9,
   "metadata": {},
   "outputs": [],
   "source": [
    "import ruptures as rpt\n",
    "import json\n",
    "import numpy as np\n",
    "%matplotlib inline\n",
    "import matplotlib.pyplot as plt\n",
    "import seaborn"
   ]
  },
  {
   "cell_type": "code",
   "execution_count": 527,
   "metadata": {},
   "outputs": [],
   "source": [
    "data = '''[\n",
    "{\"name\" : \"Eggs\", \"price\" : 8.88},\n",
    "{\"name\" : \"Eggs\", \"price\" : 8.15},\n",
    "{\"name\" : \"Eggs\", \"price\" : 8.77},\n",
    "{\"name\" : \"Eggs\", \"price\" : 8.76},\n",
    "{\"name\" : \"Eggs\", \"price\" : 8.72},\n",
    "{\"name\" : \"Eggs\", \"price\" : 8.64},\n",
    "{\"name\" : \"Eggs\", \"price\" : 8.88},\n",
    "{\"name\" : \"Eggs\", \"price\" : 8.15},\n",
    "{\"name\" : \"Eggs\", \"price\" : 8.77},\n",
    "{\"name\" : \"Eggs\", \"price\" : 8.72},\n",
    "{\"name\" : \"Eggs\", \"price\" : 8.64},\n",
    "{\"name\" : \"Eggs\", \"price\" : 8.88},\n",
    "{\"name\" : \"Eggs\", \"price\" : 8.76},\n",
    "{\"name\" : \"Eggs\", \"price\" : 8.72},\n",
    "{\"name\" : \"Eggs\", \"price\" : 8.72},\n",
    "{\"name\" : \"Eggs\", \"price\" : 8.15},\n",
    "{\"name\" : \"Eggs\", \"price\" : 8.72},\n",
    "{\"name\" : \"Eggs\", \"price\" : 8.72},\n",
    "{\"name\" : \"Eggs\", \"price\" : 8.15}\n",
    "]'''"
   ]
  },
  {
   "cell_type": "code",
   "execution_count": 528,
   "metadata": {},
   "outputs": [],
   "source": [
    "samples = json.loads(data)"
   ]
  },
  {
   "cell_type": "code",
   "execution_count": 529,
   "metadata": {},
   "outputs": [],
   "source": [
    "schema = {\"type\" : \"object\", \"properties\" : {\"price\" : {\"type\" : \"number\"}, \"name\" : {\"type\" : \"string\"}}}"
   ]
  },
  {
   "cell_type": "code",
   "execution_count": 530,
   "metadata": {},
   "outputs": [],
   "source": [
    "for key in schema[\"properties\"].keys():\n",
    "    if schema[\"properties\"][key][\"type\"] == \"string\":\n",
    "        break"
   ]
  },
  {
   "cell_type": "code",
   "execution_count": 531,
   "metadata": {},
   "outputs": [
    {
     "data": {
      "text/plain": [
       "'name'"
      ]
     },
     "execution_count": 531,
     "metadata": {},
     "output_type": "execute_result"
    }
   ],
   "source": [
    "key"
   ]
  },
  {
   "cell_type": "code",
   "execution_count": 532,
   "metadata": {},
   "outputs": [
    {
     "name": "stdout",
     "output_type": "stream",
     "text": [
      "Eggs\n",
      "Eggs\n",
      "Eggs\n",
      "Eggs\n",
      "Eggs\n",
      "Eggs\n",
      "Eggs\n",
      "Eggs\n",
      "Eggs\n",
      "Eggs\n",
      "Eggs\n",
      "Eggs\n",
      "Eggs\n",
      "Eggs\n",
      "Eggs\n",
      "Eggs\n",
      "Eggs\n",
      "Eggs\n",
      "Eggs\n"
     ]
    },
    {
     "data": {
      "text/plain": [
       "[4, 4, 4, 4, 4, 4, 4, 4, 4, 4, 4, 4, 4, 4, 4, 4, 4, 4, 4]"
      ]
     },
     "execution_count": 532,
     "metadata": {},
     "output_type": "execute_result"
    }
   ],
   "source": [
    "prices = []\n",
    "for sample in samples:\n",
    "    prices.append(len(sample[\"name\"]))\n",
    "    print(sample[\"name\"])\n",
    "prices"
   ]
  },
  {
   "cell_type": "code",
   "execution_count": 470,
   "metadata": {},
   "outputs": [],
   "source": [
    "prices = []\n",
    "for sample in samples:\n",
    "    prices.append(sample[\"price\"])"
   ]
  },
  {
   "cell_type": "code",
   "execution_count": 533,
   "metadata": {},
   "outputs": [
    {
     "name": "stdout",
     "output_type": "stream",
     "text": [
      "(array([ 0,  1,  2,  3,  4,  5,  6,  7,  8,  9, 10, 11, 12, 13, 14, 15, 16,\n",
      "       17, 18]),)\n",
      "(array([ 0,  1,  2,  3,  4,  5,  6,  7,  8,  9, 10, 11, 12, 13, 14, 15, 16,\n",
      "       17, 18]),)\n"
     ]
    },
    {
     "data": {
      "text/plain": [
       "19"
      ]
     },
     "execution_count": 533,
     "metadata": {},
     "output_type": "execute_result"
    }
   ],
   "source": [
    "prices = np.array(prices)\n",
    "print(np.where(prices == max(prices)))\n",
    "print(np.where(prices == min(prices)))\n",
    "len(prices)"
   ]
  },
  {
   "cell_type": "code",
   "execution_count": 534,
   "metadata": {},
   "outputs": [
    {
     "data": {
      "image/png": "[encoded data removed]",
      "text/plain": [
       "<Figure size 720x432 with 1 Axes>"
      ]
     },
     "metadata": {
      "needs_background": "light"
     },
     "output_type": "display_data"
    }
   ],
   "source": [
    "model = \"l2\"  \n",
    "algo = rpt.Binseg(model=model).fit(prices)\n",
    "my_bkps = algo.predict(n_bkps=10)\n",
    "# show results\n",
    "rpt.show.display(prices, my_bkps, figsize=(10, 6))\n",
    "plt.title('Change Point Detection: Pelt Search Method')\n",
    "plt.show()"
   ]
  },
  {
   "cell_type": "code",
   "execution_count": 535,
   "metadata": {},
   "outputs": [
    {
     "name": "stdout",
     "output_type": "stream",
     "text": [
      "[5, 10, 15, 19]\n"
     ]
    }
   ],
   "source": [
    "print(my_bkps)"
   ]
  },
  {
   "cell_type": "code",
   "execution_count": 536,
   "metadata": {},
   "outputs": [
    {
     "data": {
      "text/plain": [
       "1"
      ]
     },
     "execution_count": 536,
     "metadata": {},
     "output_type": "execute_result"
    }
   ],
   "source": [
    "(len(my_bkps)- int(my_bkps[-1]/5))"
   ]
  },
  {
   "cell_type": "code",
   "execution_count": 537,
   "metadata": {},
   "outputs": [],
   "source": [
    "a = np.array([[1,2,3],[1,3,2]])\n",
    "b = [[1,2,],[1],[2]]"
   ]
  },
  {
   "cell_type": "code",
   "execution_count": 538,
   "metadata": {},
   "outputs": [
    {
     "data": {
      "text/plain": [
       "True"
      ]
     },
     "execution_count": 538,
     "metadata": {},
     "output_type": "execute_result"
    }
   ],
   "source": [
    "type(a[0][0]) == np.int64"
   ]
  },
  {
   "cell_type": "code",
   "execution_count": 539,
   "metadata": {},
   "outputs": [
    {
     "data": {
      "text/plain": [
       "0"
      ]
     },
     "execution_count": 539,
     "metadata": {},
     "output_type": "execute_result"
    }
   ],
   "source": [
    "int(my_bkps[-1] % 5 in {1,2})"
   ]
  },
  {
   "cell_type": "code",
   "execution_count": null,
   "metadata": {},
   "outputs": [],
   "source": []
  }
 ],
 "metadata": {
  "kernelspec": {
   "display_name": "Python 3",
   "language": "python",
   "name": "python3"
  },
  "language_info": {
   "codemirror_mode": {
    "name": "ipython",
    "version": 3
   },
   "file_extension": ".py",
   "mimetype": "text/x-python",
   "name": "python",
   "nbconvert_exporter": "python",
   "pygments_lexer": "ipython3",
   "version": "3.7.3"
  }
 },
 "nbformat": 4,
 "nbformat_minor": 2
}
