{
 "cells": [
  {
   "cell_type": "code",
   "execution_count": 5,
   "metadata": {},
   "outputs": [],
   "source": [
    "from jsonschema import validate"
   ]
  },
  {
   "cell_type": "code",
   "execution_count": 6,
   "metadata": {},
   "outputs": [],
   "source": [
    "schema = {\"type\" : \"object\",\n",
    "          \"properties\" : {\n",
    "              \"price\" : {\"type\" : \"number\"},\n",
    "              \"name\" : {\"type\" : \"string\"},\n",
    "          },\n",
    "         }"
   ]
  },
  {
   "cell_type": "code",
   "execution_count": 7,
   "metadata": {},
   "outputs": [
    {
     "name": "stdout",
     "output_type": "stream",
     "text": [
      "None\n"
     ]
    }
   ],
   "source": [
    "print(validate(instance={\"name\" : \"Eggs\", \"price\" : 8.77}, schema=schema))"
   ]
  },
  {
   "cell_type": "code",
   "execution_count": 8,
   "metadata": {},
   "outputs": [
    {
     "name": "stdout",
     "output_type": "stream",
     "text": [
      "error\n"
     ]
    }
   ],
   "source": [
    "v = None\n",
    "try:\n",
    "    validate(instance={\"name\" : \"Eggs\", \"price\" : \"invalid\"}, schema=schema)\n",
    "    print('ok')\n",
    "except:\n",
    "    print('error')"
   ]
  },
  {
   "cell_type": "code",
   "execution_count": 74,
   "metadata": {},
   "outputs": [],
   "source": [
    "import ruptures as rpt\n",
    "import json\n",
    "import numpy as np\n",
    "%matplotlib inline\n",
    "import matplotlib.pyplot as plt\n",
    "import seaborn"
   ]
  },
  {
   "cell_type": "code",
   "execution_count": 527,
   "metadata": {},
   "outputs": [],
   "source": [
    "data = '''[\n",
    "{\"name\" : \"Eggs\", \"price\" : 8.88},\n",
    "{\"name\" : \"Eggs\", \"price\" : 8.15},\n",
    "{\"name\" : \"Eggs\", \"price\" : 8.77},\n",
    "{\"name\" : \"Eggs\", \"price\" : 8.76},\n",
    "{\"name\" : \"Eggs\", \"price\" : 8.72},\n",
    "{\"name\" : \"Eggs\", \"price\" : 8.64},\n",
    "{\"name\" : \"Eggs\", \"price\" : 8.88},\n",
    "{\"name\" : \"Eggs\", \"price\" : 8.15},\n",
    "{\"name\" : \"Eggs\", \"price\" : 8.77},\n",
    "{\"name\" : \"Eggs\", \"price\" : 8.72},\n",
    "{\"name\" : \"Eggs\", \"price\" : 8.64},\n",
    "{\"name\" : \"Eggs\", \"price\" : 8.88},\n",
    "{\"name\" : \"Eggs\", \"price\" : 8.76},\n",
    "{\"name\" : \"Eggs\", \"price\" : 8.72},\n",
    "{\"name\" : \"Eggs\", \"price\" : 8.72},\n",
    "{\"name\" : \"Eggs\", \"price\" : 8.15},\n",
    "{\"name\" : \"Eggs\", \"price\" : 8.72},\n",
    "{\"name\" : \"Eggs\", \"price\" : 8.72},\n",
    "{\"name\" : \"Eggs\", \"price\" : 8.15}\n",
    "]'''"
   ]
  },
  {
   "cell_type": "code",
   "execution_count": 528,
   "metadata": {},
   "outputs": [],
   "source": [
    "samples = json.loads(data)"
   ]
  },
  {
   "cell_type": "code",
   "execution_count": 65,
   "metadata": {},
   "outputs": [],
   "source": [
    "schema = {\"type\" : \"object\", \"properties\" : {\"price\" : {\"type\" : \"number\"}, \"name\" : {\"type\" : \"string\"}}}"
   ]
  },
  {
   "cell_type": "code",
   "execution_count": 530,
   "metadata": {},
   "outputs": [],
   "source": [
    "for key in schema[\"properties\"].keys():\n",
    "    if schema[\"properties\"][key][\"type\"] == \"string\":\n",
    "        break"
   ]
  },
  {
   "cell_type": "code",
   "execution_count": 531,
   "metadata": {},
   "outputs": [
    {
     "data": {
      "text/plain": [
       "'name'"
      ]
     },
     "execution_count": 531,
     "metadata": {},
     "output_type": "execute_result"
    }
   ],
   "source": [
    "key"
   ]
  },
  {
   "cell_type": "code",
   "execution_count": 105,
   "metadata": {
    "scrolled": true
   },
   "outputs": [
    {
     "ename": "NameError",
     "evalue": "name 'samples' is not defined",
     "output_type": "error",
     "traceback": [
      "\u001b[0;31m---------------------------------------------------------------------------\u001b[0m",
      "\u001b[0;31mNameError\u001b[0m                                 Traceback (most recent call last)",
      "\u001b[0;32m<ipython-input-105-e90790be2602>\u001b[0m in \u001b[0;36m<module>\u001b[0;34m\u001b[0m\n\u001b[1;32m      1\u001b[0m \u001b[0mprices\u001b[0m \u001b[0;34m=\u001b[0m \u001b[0;34m[\u001b[0m\u001b[0;34m]\u001b[0m\u001b[0;34m\u001b[0m\u001b[0;34m\u001b[0m\u001b[0m\n\u001b[0;32m----> 2\u001b[0;31m \u001b[0;32mfor\u001b[0m \u001b[0msample\u001b[0m \u001b[0;32min\u001b[0m \u001b[0msamples\u001b[0m\u001b[0;34m:\u001b[0m\u001b[0;34m\u001b[0m\u001b[0;34m\u001b[0m\u001b[0m\n\u001b[0m\u001b[1;32m      3\u001b[0m     \u001b[0mprices\u001b[0m\u001b[0;34m.\u001b[0m\u001b[0mappend\u001b[0m\u001b[0;34m(\u001b[0m\u001b[0mlen\u001b[0m\u001b[0;34m(\u001b[0m\u001b[0msample\u001b[0m\u001b[0;34m[\u001b[0m\u001b[0;34m\"name\"\u001b[0m\u001b[0;34m]\u001b[0m\u001b[0;34m)\u001b[0m\u001b[0;34m)\u001b[0m\u001b[0;34m\u001b[0m\u001b[0;34m\u001b[0m\u001b[0m\n\u001b[1;32m      4\u001b[0m     \u001b[0mprint\u001b[0m\u001b[0;34m(\u001b[0m\u001b[0msample\u001b[0m\u001b[0;34m[\u001b[0m\u001b[0;34m\"name\"\u001b[0m\u001b[0;34m]\u001b[0m\u001b[0;34m)\u001b[0m\u001b[0;34m\u001b[0m\u001b[0;34m\u001b[0m\u001b[0m\n",
      "\u001b[0;31mNameError\u001b[0m: name 'samples' is not defined"
     ]
    }
   ],
   "source": [
    "prices = []\n",
    "for sample in samples:\n",
    "    prices.append(len(sample[\"name\"]))\n",
    "    print(sample[\"name\"])"
   ]
  },
  {
   "cell_type": "code",
   "execution_count": 470,
   "metadata": {},
   "outputs": [],
   "source": [
    "prices = []\n",
    "for sample in samples:\n",
    "    prices.append(sample[\"price\"])"
   ]
  },
  {
   "cell_type": "code",
   "execution_count": 533,
   "metadata": {},
   "outputs": [
    {
     "name": "stdout",
     "output_type": "stream",
     "text": [
      "(array([ 0,  1,  2,  3,  4,  5,  6,  7,  8,  9, 10, 11, 12, 13, 14, 15, 16,\n",
      "       17, 18]),)\n",
      "(array([ 0,  1,  2,  3,  4,  5,  6,  7,  8,  9, 10, 11, 12, 13, 14, 15, 16,\n",
      "       17, 18]),)\n"
     ]
    },
    {
     "data": {
      "text/plain": [
       "19"
      ]
     },
     "execution_count": 533,
     "metadata": {},
     "output_type": "execute_result"
    }
   ],
   "source": [
    "prices = np.array(prices)\n",
    "print(np.where(prices == max(prices)))\n",
    "print(np.where(prices == min(prices)))\n",
    "len(prices)"
   ]
  },
  {
   "cell_type": "code",
   "execution_count": 534,
   "metadata": {
    "scrolled": true
   },
   "outputs": [
    {
     "data": {
      "image/png": "[encoded data removed]",
      "text/plain": [
       "<Figure size 720x432 with 1 Axes>"
      ]
     },
     "metadata": {
      "needs_background": "light"
     },
     "output_type": "display_data"
    }
   ],
   "source": [
    "model = \"l2\"  \n",
    "algo = rpt.Binseg(model=model).fit(prices)\n",
    "my_bkps = algo.predict(n_bkps=10)\n",
    "# show results\n",
    "rpt.show.display(prices, my_bkps, figsize=(10, 6))\n",
    "plt.title('Change Point Detection: Pelt Search Method')\n",
    "plt.show()"
   ]
  },
  {
   "cell_type": "code",
   "execution_count": 535,
   "metadata": {},
   "outputs": [
    {
     "name": "stdout",
     "output_type": "stream",
     "text": [
      "[5, 10, 15, 19]\n"
     ]
    }
   ],
   "source": [
    "print(my_bkps)"
   ]
  },
  {
   "cell_type": "code",
   "execution_count": 536,
   "metadata": {},
   "outputs": [
    {
     "data": {
      "text/plain": [
       "1"
      ]
     },
     "execution_count": 536,
     "metadata": {},
     "output_type": "execute_result"
    }
   ],
   "source": [
    "(len(my_bkps)- int(my_bkps[-1]/5))"
   ]
  },
  {
   "cell_type": "code",
   "execution_count": 537,
   "metadata": {},
   "outputs": [],
   "source": [
    "a = np.array([[1,2,3],[1,3,2]])\n",
    "b = [[1,2,],[1],[2]]"
   ]
  },
  {
   "cell_type": "code",
   "execution_count": 538,
   "metadata": {},
   "outputs": [
    {
     "data": {
      "text/plain": [
       "True"
      ]
     },
     "execution_count": 538,
     "metadata": {},
     "output_type": "execute_result"
    }
   ],
   "source": [
    "type(a[0][0]) == np.int64"
   ]
  },
  {
   "cell_type": "code",
   "execution_count": 539,
   "metadata": {},
   "outputs": [
    {
     "data": {
      "text/plain": [
       "0"
      ]
     },
     "execution_count": 539,
     "metadata": {},
     "output_type": "execute_result"
    }
   ],
   "source": [
    "int(my_bkps[-1] % 5 in {1,2})"
   ]
  },
  {
   "cell_type": "code",
   "execution_count": 33,
   "metadata": {},
   "outputs": [
    {
     "data": {
      "text/plain": [
       "0.8093224980782162"
      ]
     },
     "execution_count": 33,
     "metadata": {},
     "output_type": "execute_result"
    }
   ],
   "source": [
    "random.random()"
   ]
  },
  {
   "cell_type": "code",
   "execution_count": 48,
   "metadata": {},
   "outputs": [],
   "source": [
    "import json\n",
    "import random\n",
    "\n",
    "items = ['eggs', 'milk', 'cheese', 'bread', 'porridge']\n",
    "names = ['Misha', 'Lena', 'Ivan', 'Nikita', 'Aleksandr', 'Fillip']\n",
    "\n",
    "# есть поле текм n шагов, а после n+1 - нет\n",
    "def error1(n):\n",
    "    data_arr = []\n",
    "    n = int(n)\n",
    "    for i in range(n):\n",
    "        data = {}\n",
    "        data['name'] = random.choice(items)\n",
    "        data['price'] = random.randrange(8, 9) + round(random.random(), 3)\n",
    "        data['count'] = random.randint(1,10)\n",
    "        data['customer name'] = random.choice(names)\n",
    "        data['phone number'] = \"+79\" + str(random.randint(111111111,999999999))\n",
    "        data_arr.append(data)\n",
    "    for i in range(int(n / 10)):\n",
    "        data = {}\n",
    "        data['name'] = ''\n",
    "        data['price'] = random.randrange(8, 9) + round(random.random(), 3)\n",
    "        data['count'] = random.randint(1,10)\n",
    "        data['customer name'] = random.choice(names)\n",
    "        data['phone number'] = \"+79\" + str(random.randint(111111111,999999999))\n",
    "        data_arr.append(data)\n",
    "    with open('anomaly1.json', 'w') as json_file:\n",
    "        json.dump(data_arr, json_file)"
   ]
  },
  {
   "cell_type": "code",
   "execution_count": 49,
   "metadata": {},
   "outputs": [],
   "source": [
    "error1(20)"
   ]
  },
  {
   "cell_type": "code",
   "execution_count": 50,
   "metadata": {},
   "outputs": [],
   "source": [
    "def error2(n):\n",
    "    data_arr = []\n",
    "    n = int(n)\n",
    "    for i in range(n):\n",
    "        data = {}\n",
    "        data['name'] = random.choice(items)\n",
    "        data['price'] = random.randrange(8, 9) + round(random.random(), 3)\n",
    "        data['count'] = random.randint(1,10)\n",
    "        if random.random() < 0.589:\n",
    "            data[\"customer name\"] = random.choice(names)\n",
    "        else:\n",
    "            data[\"customer name\"] = ''\n",
    "        data['phone number'] = \"+79\" + str(random.randint(111111111,999999999))\n",
    "        data_arr.append(data)\n",
    "    for i in range(int(n / 5)):\n",
    "        data = {}\n",
    "        data[\"customer name\"] = ''\n",
    "        data['name'] = random.choice(items)\n",
    "        data['price'] = random.randrange(8, 9) + round(random.random(), 3)\n",
    "        data['count'] = random.randint(1,10)\n",
    "        data['phone number'] = \"+79\" + str(random.randint(111111111,999999999))\n",
    "        data_arr.append(data)\n",
    "    with open('anomaly2.json', 'w') as json_file:\n",
    "        json.dump(data_arr, json_file)"
   ]
  },
  {
   "cell_type": "code",
   "execution_count": 51,
   "metadata": {},
   "outputs": [],
   "source": [
    "error2(20)"
   ]
  },
  {
   "cell_type": "code",
   "execution_count": 52,
   "metadata": {},
   "outputs": [],
   "source": [
    "def error3(n):\n",
    "    data_arr = []\n",
    "    n = int(n)\n",
    "    for i in range(n):\n",
    "        data = {}\n",
    "        data['name'] = random.choice(items)\n",
    "        data['price'] = random.randrange(8, 9) + round(random.random(), 3)\n",
    "        data['count'] = random.randint(1,10)\n",
    "        data['customer name'] = random.choice(names)\n",
    "        data['phone number'] = \"+79\" + str(random.randint(111111111,999999999))\n",
    "        data_arr.append(data)\n",
    "    for i in range(int(n / 10)):\n",
    "        data = {}\n",
    "        data['name'] = random.choice(items)\n",
    "        data['price'] = random.randrange(50, 70) + round(random.random(), 3)\n",
    "        data['count'] = random.randint(1,10)\n",
    "        data['customer name'] = random.choice(names)\n",
    "        data['phone number'] = \"+79\" + str(random.randint(111111111,999999999))\n",
    "        data_arr.append(data)\n",
    "    with open('anomaly3.json', 'w') as json_file:\n",
    "        json.dump(data_arr, json_file)"
   ]
  },
  {
   "cell_type": "code",
   "execution_count": 53,
   "metadata": {},
   "outputs": [],
   "source": [
    "error3(25)"
   ]
  },
  {
   "cell_type": "code",
   "execution_count": 92,
   "metadata": {},
   "outputs": [],
   "source": [
    "def error4(n):\n",
    "    data_arr = []\n",
    "    n = int(n)\n",
    "    for i in range(n):\n",
    "        data = {}\n",
    "        data['name'] = random.choice(items)\n",
    "        data['price'] = random.randrange(8, 9) + round(random.random(), 3)\n",
    "        data['count'] = random.randint(1,10)\n",
    "        data['customer name'] = random.choice(names)\n",
    "        data['phone number'] = \"+79\" + str(random.randint(111111111,999999999))\n",
    "        data_arr.append(data)\n",
    "    for i in range(int(n)):\n",
    "        data = {}\n",
    "        data['name'] = random.choice(items)\n",
    "        data['price'] = random.randrange(8, 9) + round(random.random(), 3)\n",
    "        data['count'] = random.randint(1,10)\n",
    "        data['customer name'] = random.choice(names)\n",
    "        data['phone number'] = \"+8(9\" + str(random.randint(11,99))+')' + str(random.randint(1111111,9999999))\n",
    "        data_arr.append(data)\n",
    "    with open('anomaly4.json', 'w') as json_file:\n",
    "        json.dump(data_arr, json_file)"
   ]
  },
  {
   "cell_type": "code",
   "execution_count": 127,
   "metadata": {},
   "outputs": [],
   "source": [
    "error4(10)"
   ]
  },
  {
   "cell_type": "code",
   "execution_count": 159,
   "metadata": {},
   "outputs": [],
   "source": [
    "with open('anomaly5.json', 'r') as json_file:\n",
    "    data = json.loads(json_file.read())"
   ]
  },
  {
   "cell_type": "code",
   "execution_count": 122,
   "metadata": {},
   "outputs": [],
   "source": [
    "schema = {\"type\" : \"object\", \"properties\" : {\"price\" : {\"type\" : \"number\"}, \"count\" : {\"type\" : \"number\"}, \"name\" : {\"type\" : \"string\"}, \"customer name\" : {\"type\" : \"string\"}, \"phone number\": {\"type\" : \"string\"}}, \"required\": [ \"name\" ]}"
   ]
  },
  {
   "cell_type": "code",
   "execution_count": 123,
   "metadata": {},
   "outputs": [],
   "source": [
    "for key in schema[\"properties\"].keys():\n",
    "    if schema[\"properties\"][key][\"type\"] == \"string\":\n",
    "        break"
   ]
  },
  {
   "cell_type": "code",
   "execution_count": 115,
   "metadata": {},
   "outputs": [
    {
     "data": {
      "text/plain": [
       "'name'"
      ]
     },
     "execution_count": 115,
     "metadata": {},
     "output_type": "execute_result"
    }
   ],
   "source": [
    "key"
   ]
  },
  {
   "cell_type": "code",
   "execution_count": 103,
   "metadata": {},
   "outputs": [],
   "source": [
    "prices = []\n",
    "for sample in data:\n",
    "    prices.append(sample[\"price\"])"
   ]
  },
  {
   "cell_type": "code",
   "execution_count": 125,
   "metadata": {},
   "outputs": [
    {
     "name": "stdout",
     "output_type": "stream",
     "text": [
      "(array([   1,    3,    4,   19,   23,   28,   33,   37,   40,   42,   48,\n",
      "         61,   67,   76,   81,   98,   99,  107,  108,  111,  120,  130,\n",
      "        159,  168,  169,  177,  180,  184,  185,  189,  191,  195,  196,\n",
      "        204,  223,  228,  235,  238,  239,  240,  246,  268,  274,  277,\n",
      "        286,  295,  302,  309,  310,  318,  319,  326,  332,  336,  338,\n",
      "        359,  366,  368,  378,  401,  415,  418,  420,  432,  434,  441,\n",
      "        444,  447,  448,  453,  456,  463,  466,  471,  475,  478,  481,\n",
      "        490,  492,  495,  501,  508,  514,  516,  526,  527,  546,  548,\n",
      "        550,  552,  554,  559,  561,  562,  565,  568,  580,  582,  585,\n",
      "        586,  593,  594,  597,  609,  619,  627,  636,  649,  651,  653,\n",
      "        655,  657,  670,  671,  675,  676,  679,  680,  681,  682,  692,\n",
      "        697,  707,  709,  710,  713,  718,  729,  735,  739,  749,  750,\n",
      "        752,  770,  771,  773,  777,  778,  783,  790,  792,  793,  800,\n",
      "        806,  810,  812,  832,  833,  838,  840,  841,  842,  844,  846,\n",
      "        850,  851,  855,  856,  862,  864,  865,  870,  885,  894,  896,\n",
      "        900,  905,  911,  912,  916,  917,  921,  924,  927,  929,  934,\n",
      "        945,  946,  952,  958,  960,  965,  967,  968,  971,  972,  973,\n",
      "        974,  981,  984,  994, 1000, 1005, 1017, 1023, 1027, 1031, 1042,\n",
      "       1047, 1053, 1055, 1064, 1071, 1076, 1077, 1080, 1087, 1092, 1105,\n",
      "       1114, 1115, 1124, 1129, 1131, 1142, 1156, 1159, 1166, 1174, 1177,\n",
      "       1179, 1180, 1184, 1186, 1187, 1190, 1193, 1197, 1204, 1216, 1219,\n",
      "       1223, 1226, 1235, 1248, 1249, 1251, 1254, 1263, 1267, 1270, 1272,\n",
      "       1282, 1283, 1288, 1290, 1291, 1301, 1302, 1306, 1310, 1317, 1327,\n",
      "       1328, 1335, 1336, 1337, 1338, 1341, 1346, 1349, 1351, 1359, 1360,\n",
      "       1361, 1366, 1373, 1378, 1388, 1389, 1394, 1408, 1409, 1411, 1418,\n",
      "       1421, 1442, 1449, 1459, 1462, 1472, 1477, 1485, 1506, 1513, 1517,\n",
      "       1525, 1534, 1537, 1547, 1550, 1553, 1558, 1565, 1567, 1570, 1589,\n",
      "       1590, 1596, 1602, 1603, 1608, 1609, 1618, 1620, 1623, 1625, 1640,\n",
      "       1649, 1653, 1663, 1665, 1679, 1686, 1695, 1698, 1700, 1701, 1705,\n",
      "       1708, 1711, 1720, 1729, 1732, 1740, 1742, 1749, 1750, 1754, 1755,\n",
      "       1759, 1761, 1765, 1773, 1775, 1786, 1805, 1808, 1820, 1825, 1826,\n",
      "       1833, 1836, 1846, 1850, 1852, 1866, 1872, 1875, 1877, 1885, 1888,\n",
      "       1889, 1894, 1902, 1917, 1920, 1921, 1924, 1926, 1927, 1929, 1933,\n",
      "       1934, 1937, 1946, 1948, 1949, 1953, 1956, 1959, 1963, 1965, 1968,\n",
      "       1972, 1973, 1981, 1991]),)\n",
      "(array([   2,    5,    9,   10,   15,   17,   18,   22,   24,   25,   26,\n",
      "         31,   35,   38,   45,   47,   49,   50,   51,   52,   54,   55,\n",
      "         58,   60,   64,   65,   71,   73,   77,   78,   80,   82,   83,\n",
      "         84,   85,   87,   88,   90,   91,   95,   96,  100,  102,  105,\n",
      "        106,  109,  110,  112,  113,  114,  118,  119,  121,  125,  129,\n",
      "        131,  133,  136,  138,  141,  142,  143,  144,  145,  148,  149,\n",
      "        150,  153,  154,  155,  161,  162,  163,  167,  170,  172,  173,\n",
      "        174,  175,  179,  183,  186,  190,  194,  198,  200,  201,  202,\n",
      "        203,  209,  212,  213,  215,  216,  217,  218,  220,  222,  226,\n",
      "        230,  232,  234,  236,  237,  245,  250,  254,  262,  263,  264,\n",
      "        266,  267,  276,  281,  285,  290,  292,  297,  299,  300,  301,\n",
      "        304,  305,  311,  312,  313,  315,  320,  321,  323,  324,  325,\n",
      "        331,  333,  341,  346,  347,  348,  349,  351,  353,  354,  355,\n",
      "        357,  360,  361,  370,  371,  372,  374,  375,  376,  379,  388,\n",
      "        395,  397,  398,  400,  402,  403,  404,  406,  407,  408,  411,\n",
      "        414,  416,  417,  424,  425,  427,  429,  430,  437,  439,  442,\n",
      "        443,  445,  450,  451,  454,  455,  460,  462,  464,  465,  467,\n",
      "        468,  469,  473,  474,  477,  483,  485,  487,  488,  489,  491,\n",
      "        493,  494,  496,  497,  499,  500,  502,  503,  504,  507,  509,\n",
      "        511,  512,  515,  518,  520,  521,  524,  529,  531,  532,  533,\n",
      "        534,  537,  538,  542,  543,  545,  553,  555,  557,  560,  570,\n",
      "        572,  573,  574,  576,  577,  578,  581,  587,  591,  596,  599,\n",
      "        600,  603,  607,  608,  610,  613,  615,  618,  620,  622,  623,\n",
      "        624,  628,  630,  632,  633,  635,  638,  641,  642,  652,  654,\n",
      "        658,  659,  660,  662,  663,  665,  666,  667,  668,  673,  674,\n",
      "        683,  684,  687,  690,  695,  698,  699,  700,  702,  703,  704,\n",
      "        705,  706,  708,  712,  714,  715,  717,  720,  722,  723,  724,\n",
      "        728,  736,  738,  741,  746,  753,  754,  756,  758,  760,  767,\n",
      "        775,  776,  779,  780,  781,  784,  785,  787,  789,  791,  795,\n",
      "        797,  802,  811,  815,  817,  820,  827,  828,  829,  834,  835,\n",
      "        839,  847,  848,  849,  852,  853,  861,  866,  874,  875,  877,\n",
      "        878,  881,  882,  883,  886,  887,  888,  889,  890,  891,  895,\n",
      "        899,  901,  907,  910,  915,  918,  919,  920,  922,  923,  925,\n",
      "        926,  928,  931,  932,  933,  935,  939,  940,  942,  943,  947,\n",
      "        948,  950,  951,  954,  961,  962,  963,  964,  969,  986,  989,\n",
      "        992,  996,  998,  999, 1001, 1004, 1009, 1010, 1014, 1020, 1021,\n",
      "       1022, 1025, 1026, 1033, 1034, 1035, 1036, 1037, 1038, 1039, 1040,\n",
      "       1041, 1043, 1045, 1046, 1056, 1059, 1062, 1063, 1065, 1074, 1075,\n",
      "       1079, 1083, 1085, 1086, 1088, 1091, 1102, 1106, 1111, 1112, 1113,\n",
      "       1117, 1120, 1121, 1122, 1126, 1132, 1133, 1134, 1138, 1140, 1143,\n",
      "       1144, 1145, 1147, 1149, 1153, 1155, 1157, 1163, 1164, 1168, 1171,\n",
      "       1172, 1173, 1178, 1182, 1185, 1191, 1199, 1200, 1202, 1203, 1205,\n",
      "       1210, 1213, 1214, 1215, 1217, 1218, 1220, 1222, 1224, 1228, 1233,\n",
      "       1236, 1237, 1241, 1244, 1245, 1250, 1252, 1253, 1255, 1256, 1257,\n",
      "       1262, 1268, 1273, 1274, 1275, 1277, 1278, 1281, 1284, 1286, 1287,\n",
      "       1292, 1293, 1294, 1297, 1298, 1299, 1300, 1304, 1305, 1307, 1309,\n",
      "       1313, 1318, 1319, 1320, 1321, 1323, 1325, 1326, 1333, 1339, 1342,\n",
      "       1348, 1350, 1354, 1367, 1370, 1371, 1374, 1376, 1377, 1379, 1380,\n",
      "       1381, 1382, 1383, 1385, 1386, 1395, 1396, 1399, 1400, 1401, 1402,\n",
      "       1405, 1406, 1414, 1415, 1416, 1419, 1422, 1424, 1426, 1427, 1428,\n",
      "       1429, 1430, 1432, 1433, 1439, 1440, 1443, 1444, 1445, 1446, 1448,\n",
      "       1452, 1453, 1461, 1463, 1469, 1473, 1476, 1479, 1480, 1481, 1482,\n",
      "       1483, 1486, 1487, 1489, 1492, 1493, 1496, 1497, 1499, 1500, 1501,\n",
      "       1502, 1505, 1508, 1509, 1511, 1512, 1514, 1515, 1527, 1532, 1535,\n",
      "       1536, 1538, 1539, 1540, 1548, 1552, 1554, 1555, 1559, 1564, 1566,\n",
      "       1569, 1571, 1574, 1575, 1577, 1578, 1579, 1581, 1585, 1586, 1587,\n",
      "       1591, 1595, 1597, 1604, 1605, 1606, 1610, 1612, 1613, 1615, 1616,\n",
      "       1617, 1621, 1627, 1631, 1632, 1637, 1638, 1639, 1643, 1644, 1645,\n",
      "       1646, 1651, 1652, 1655, 1666, 1667, 1669, 1670, 1671, 1672, 1673,\n",
      "       1674, 1675, 1676, 1678, 1680, 1682, 1684, 1685, 1688, 1690, 1691,\n",
      "       1692, 1694, 1697, 1706, 1707, 1709, 1716, 1717, 1718, 1719, 1725,\n",
      "       1727, 1730, 1731, 1733, 1734, 1737, 1738, 1741, 1744, 1745, 1746,\n",
      "       1747, 1748, 1751, 1752, 1753, 1756, 1757, 1758, 1763, 1764, 1766,\n",
      "       1767, 1769, 1770, 1777, 1778, 1779, 1780, 1782, 1783, 1785, 1789,\n",
      "       1793, 1794, 1795, 1797, 1798, 1799, 1802, 1803, 1804, 1810, 1812,\n",
      "       1814, 1816, 1817, 1819, 1821, 1823, 1827, 1828, 1830, 1831, 1832,\n",
      "       1834, 1837, 1839, 1840, 1844, 1847, 1851, 1856, 1857, 1859, 1861,\n",
      "       1862, 1864, 1865, 1868, 1870, 1876, 1878, 1879, 1881, 1886, 1890,\n",
      "       1892, 1893, 1895, 1897, 1905, 1907, 1912, 1913, 1918, 1919, 1922,\n",
      "       1923, 1925, 1931, 1935, 1936, 1938, 1939, 1940, 1941, 1944, 1955,\n",
      "       1957, 1958, 1960, 1961, 1962, 1966, 1967, 1975, 1977, 1984, 1985,\n",
      "       1986, 1987, 1996, 1999]),)\n"
     ]
    },
    {
     "data": {
      "text/plain": [
       "array([5, 8, 4, ..., 5, 6, 4])"
      ]
     },
     "execution_count": 125,
     "metadata": {},
     "output_type": "execute_result"
    }
   ],
   "source": [
    "prices = np.array(prices)\n",
    "print(np.where(prices == max(prices)))\n",
    "print(np.where(prices == min(prices)))\n",
    "len(prices)\n",
    "prices"
   ]
  },
  {
   "cell_type": "code",
   "execution_count": 100,
   "metadata": {},
   "outputs": [
    {
     "data": {
      "image/png": "[encoded data removed]",
      "text/plain": [
       "<Figure size 720x432 with 1 Axes>"
      ]
     },
     "metadata": {
      "needs_background": "light"
     },
     "output_type": "display_data"
    }
   ],
   "source": [
    "model=\"rbf\"\n",
    "algo = rpt.Pelt(model=model).fit(prices)\n",
    "result = algo.predict(pen=1)\n",
    "rpt.show.display(prices, result, figsize=(10, 6))\n",
    "plt.title('Change Point Detection: Pelt Search Method')\n",
    "plt.show()"
   ]
  },
  {
   "cell_type": "code",
   "execution_count": 89,
   "metadata": {},
   "outputs": [
    {
     "data": {
      "text/plain": [
       "[5, 30]"
      ]
     },
     "execution_count": 89,
     "metadata": {},
     "output_type": "execute_result"
    }
   ],
   "source": [
    "result"
   ]
  },
  {
   "cell_type": "code",
   "execution_count": 124,
   "metadata": {},
   "outputs": [],
   "source": [
    "prices = []\n",
    "for sample in data:\n",
    "    prices.append(len(sample[\"name\"]))"
   ]
  },
  {
   "cell_type": "code",
   "execution_count": 126,
   "metadata": {},
   "outputs": [
    {
     "data": {
      "image/png": "[encoded data removed]",
      "text/plain": [
       "<Figure size 720x432 with 1 Axes>"
      ]
     },
     "metadata": {
      "needs_background": "light"
     },
     "output_type": "display_data"
    }
   ],
   "source": [
    "model = \"l2\"  \n",
    "algo = rpt.Binseg(model=model).fit(prices)\n",
    "my_bkps = algo.predict(n_bkps=10)\n",
    "# show results\n",
    "rpt.show.display(prices, my_bkps, figsize=(10, 6))\n",
    "plt.title('Change Point Detection: Pelt Search Method')\n",
    "plt.show()"
   ]
  },
  {
   "cell_type": "code",
   "execution_count": 146,
   "metadata": {},
   "outputs": [],
   "source": [
    "def error5(n):\n",
    "    data_arr = []\n",
    "    n = int(n)\n",
    "    for i in range(n):\n",
    "        data = {}\n",
    "        data['name'] = random.choice(items)\n",
    "        data['price'] = random.randrange(8, 9) + round(random.random(), 3)\n",
    "        data['count'] = random.randint(1,10)\n",
    "        data[\"customer name\"] = random.choice(names)\n",
    "        data['phone number'] = \"+79\" + str(random.randint(111111111,999999999))\n",
    "        data_arr.append(data)\n",
    "    for i in range(int(n / 5)):\n",
    "        data = {}\n",
    "        data['name'] = random.choice(items)\n",
    "        data['price'] = random.randrange(8, 9) + round(random.random(), 3)\n",
    "        data['phone number'] = \"+79\" + str(random.randint(111111111,999999999))\n",
    "        data_arr.append(data)\n",
    "    with open('anomaly5.json', 'w') as json_file:\n",
    "        json.dump(data_arr, json_file)"
   ]
  },
  {
   "cell_type": "code",
   "execution_count": 158,
   "metadata": {},
   "outputs": [],
   "source": [
    "error5(50)"
   ]
  },
  {
   "cell_type": "code",
   "execution_count": 141,
   "metadata": {},
   "outputs": [
    {
     "data": {
      "text/plain": [
       "5"
      ]
     },
     "execution_count": 141,
     "metadata": {},
     "output_type": "execute_result"
    }
   ],
   "source": [
    "len(data[0].keys())"
   ]
  },
  {
   "cell_type": "code",
   "execution_count": 160,
   "metadata": {},
   "outputs": [
    {
     "data": {
      "image/png": "[encoded data removed]",
      "text/plain": [
       "<Figure size 720x432 with 1 Axes>"
      ]
     },
     "metadata": {
      "needs_background": "light"
     },
     "output_type": "display_data"
    }
   ],
   "source": [
    "numbers = []\n",
    "for sample in data:\n",
    "    numbers.append(len(sample.keys()))\n",
    "numbers = np.array(numbers)\n",
    "model = \"l2\"\n",
    "algo = rpt.Binseg(model=model).fit(numbers)\n",
    "result = algo.predict(n_bkps=10)\n",
    "rpt.show.display(numbers, result, figsize=(10, 6))\n",
    "plt.title('Change Point Detection: Pelt Search Method')\n",
    "plt.show()"
   ]
  },
  {
   "cell_type": "code",
   "execution_count": 161,
   "metadata": {},
   "outputs": [
    {
     "data": {
      "text/plain": [
       "-1"
      ]
     },
     "execution_count": 161,
     "metadata": {},
     "output_type": "execute_result"
    }
   ],
   "source": [
    "len(result) - int(result[-1] / 5) + int(result[-1] % 5 in {1, 2})"
   ]
  },
  {
   "cell_type": "code",
   "execution_count": 157,
   "metadata": {},
   "outputs": [
    {
     "data": {
      "text/plain": [
       "[5, 10, 15, 20, 24]"
      ]
     },
     "execution_count": 157,
     "metadata": {},
     "output_type": "execute_result"
    }
   ],
   "source": [
    "result"
   ]
  },
  {
   "cell_type": "code",
   "execution_count": null,
   "metadata": {},
   "outputs": [],
   "source": []
  }
 ],
 "metadata": {
  "kernelspec": {
   "display_name": "Python 3",
   "language": "python",
   "name": "python3"
  },
  "language_info": {
   "codemirror_mode": {
    "name": "ipython",
    "version": 3
   },
   "file_extension": ".py",
   "mimetype": "text/x-python",
   "name": "python",
   "nbconvert_exporter": "python",
   "pygments_lexer": "ipython3",
   "version": "3.7.3"
  }
 },
 "nbformat": 4,
 "nbformat_minor": 2
}
