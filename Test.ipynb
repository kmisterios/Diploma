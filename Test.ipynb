{
 "cells": [
  {
   "cell_type": "code",
   "execution_count": 1,
   "metadata": {},
   "outputs": [],
   "source": [
    "import requests\n",
    "import json"
   ]
  },
  {
   "cell_type": "code",
   "execution_count": 78,
   "metadata": {},
   "outputs": [
    {
     "name": "stdout",
     "output_type": "stream",
     "text": [
      "{'idOfCrawler': 1, 'type': 'object', 'properties': {'price': {'type': 'number'}, 'count': {'type': 'number'}, 'name': {'type': 'string', 'minlength': 3, 'maxlength': 10}, 'customer name': {'type': 'string', 'minlength': 4, 'maxlength': 12}, 'phone number': {'type': 'string'}}, 'required': ['name']}\n",
      "{'type': 'object', 'properties': {'legs': {'type': 'number'}}, 'idOfCrawler': 2}\n",
      "{'type': 'object', 'properties': {'task': {'type': 'string'}}, 'idOfCrawler': 3}\n"
     ]
    }
   ],
   "source": [
    "# Посмотрим, какие есть схемы\n",
    "response = requests.get('http://localhost:5000/requests/schemas')\n",
    "if response.status_code == 200:\n",
    "    schemas = response.text\n",
    "    schemas = json.loads(schemas)\n",
    "    for schema in schemas:\n",
    "        print(schema)\n",
    "else:\n",
    "    print('Error with code ', response.status_code)"
   ]
  },
  {
   "cell_type": "code",
   "execution_count": 139,
   "metadata": {},
   "outputs": [
    {
     "name": "stdout",
     "output_type": "stream",
     "text": [
      "{'idOfCrawler': 1, 'type': 'object', 'properties': {'price': {'type': 'number'}, 'count': {'type': 'number'}, 'name': {'type': 'string'}, 'customer name': {'type': 'string'}, 'phone number': {'type': 'string'}}}\n"
     ]
    }
   ],
   "source": [
    "# Посмотрим конкретную схему\n",
    "response = requests.get('http://localhost:5000/requests/schemas/1')\n",
    "schema = response.text\n",
    "print(schema)"
   ]
  },
  {
   "cell_type": "code",
   "execution_count": 75,
   "metadata": {},
   "outputs": [
    {
     "name": "stdout",
     "output_type": "stream",
     "text": [
      "There is no schema with id = 4\n"
     ]
    }
   ],
   "source": [
    "# Удалим какую-нибудь схему\n",
    "response = requests.get('http://localhost:5000/requests/delete/4')\n",
    "print(response.text)"
   ]
  },
  {
   "cell_type": "code",
   "execution_count": 8,
   "metadata": {},
   "outputs": [
    {
     "name": "stdout",
     "output_type": "stream",
     "text": [
      "YOUR SCHEMA IS SUCCESSFULLY WRITTEN\n"
     ]
    }
   ],
   "source": [
    "# Загрузим новую схему\n",
    "new_schema = '{\"type\": \"object\", \"properties\": {\"task\": {\"type\": \"string\"}}}'\n",
    "response = requests.post('http://localhost:5000/requests/schemas', data = new_schema)\n",
    "print(response.text)"
   ]
  },
  {
   "cell_type": "code",
   "execution_count": 198,
   "metadata": {},
   "outputs": [
    {
     "name": "stdout",
     "output_type": "stream",
     "text": [
      "{'message': 'samples for error 0 are generated', 'samples': [0, 0, 0, 0, 0, 0, 0, 0, 0, 0, 0, 0, 0, 0, 0, 0, 0, 0, 0, 0, 0, 0, 0, 0, 0, 0, 0, 0, 0, 0, 0, 0, 0, 0, 0, 0, 0, 0]}\n"
     ]
    }
   ],
   "source": [
    "# сгенерируем сэмплы для третей ошибки для первой схемы\n",
    "response = requests.post('http://localhost:5000/requests/1/generate', data = '0')\n",
    "try:\n",
    "    true_results = json.loads(response.content)\n",
    "except:\n",
    "    true_results = response.text\n",
    "print(true_results)"
   ]
  },
  {
   "cell_type": "code",
   "execution_count": 199,
   "metadata": {},
   "outputs": [
    {
     "name": "stdout",
     "output_type": "stream",
     "text": [
      "{'message': 'No errors in schemas', 'prediction': [0, 0, 0, 0, 0, 0, 0, 0, 0, 0, 0, 0, 0, 0, 0, 0, 0, 0, 0, 0, 0, 0, 0, 0, 0, 0, 0, 0, 0, 0, 0, 0, 0, 0, 0, 0, 0, 0]}\n"
     ]
    }
   ],
   "source": [
    "# прогоним их через сервис\n",
    "response = requests.post('http://localhost:5000/requests/1/verify', data = '0')\n",
    "predicted_results = json.loads(response.content)\n",
    "print(predicted_results)"
   ]
  },
  {
   "cell_type": "code",
   "execution_count": 200,
   "metadata": {},
   "outputs": [
    {
     "name": "stdout",
     "output_type": "stream",
     "text": [
      "[0, 0, 0, 0, 0, 0, 0, 0, 0, 0, 0, 0, 0, 0, 0, 0, 0, 0, 0, 0, 0, 0, 0, 0, 0, 0, 0, 0, 0, 0, 0, 0, 0, 0, 0, 0, 0, 0]\n",
      "[0, 0, 0, 0, 0, 0, 0, 0, 0, 0, 0, 0, 0, 0, 0, 0, 0, 0, 0, 0, 0, 0, 0, 0, 0, 0, 0, 0, 0, 0, 0, 0, 0, 0, 0, 0, 0, 0]\n"
     ]
    }
   ],
   "source": [
    "print(true_results[\"samples\"])\n",
    "print(predicted_results[\"prediction\"])"
   ]
  },
  {
   "cell_type": "code",
   "execution_count": 202,
   "metadata": {},
   "outputs": [
    {
     "name": "stdout",
     "output_type": "stream",
     "text": [
      "f1 score is  0.0\n"
     ]
    }
   ],
   "source": [
    "# посчитаем метрику\n",
    "from sklearn.metrics import f1_score\n",
    "print('f1 score is ', f1_score(true_results[\"samples\"], predicted_results[\"prediction\"]))"
   ]
  },
  {
   "cell_type": "code",
   "execution_count": 204,
   "metadata": {},
   "outputs": [
    {
     "name": "stdout",
     "output_type": "stream",
     "text": [
      "current f1 score for error 3 is  1.0\n",
      "current f1 score for error 4 is  1.0\n",
      "current f1 score for error 5 is  1.0\n"
     ]
    }
   ],
   "source": [
    "# теперь сделаем то же самое для всех ошибок\n",
    "true_results = []\n",
    "predicted_results = []\n",
    "for i in range(3,6):\n",
    "    response = requests.post('http://localhost:5000/requests/1/generate', data = str(i))\n",
    "    true_results += json.loads(response.content)[\"samples\"]\n",
    "    #print(true_results[\"message\"])\n",
    "    response = requests.post('http://localhost:5000/requests/1/verify', data = str(i))\n",
    "    predicted_results += json.loads(response.content)[\"prediction\"]\n",
    "    #print(predicted_results[\"message\"])\n",
    "    print('current f1 score for error ' + str(i) + ' is ', f1_score(true_results, predicted_results))"
   ]
  },
  {
   "cell_type": "code",
   "execution_count": null,
   "metadata": {},
   "outputs": [],
   "source": []
  }
 ],
 "metadata": {
  "kernelspec": {
   "display_name": "Python 3",
   "language": "python",
   "name": "python3"
  },
  "language_info": {
   "codemirror_mode": {
    "name": "ipython",
    "version": 3
   },
   "file_extension": ".py",
   "mimetype": "text/x-python",
   "name": "python",
   "nbconvert_exporter": "python",
   "pygments_lexer": "ipython3",
   "version": "3.7.3"
  }
 },
 "nbformat": 4,
 "nbformat_minor": 2
}
